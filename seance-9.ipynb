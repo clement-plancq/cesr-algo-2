{
 "cells": [
  {
   "cell_type": "markdown",
   "id": "71756149",
   "metadata": {},
   "source": [
    "# Algo 2 – Python\n",
    "\n",
    "## Cours 9 – Web côté serveur (suite)\n",
    "\n",
    "###  Master Humanités Numériques du CESR"
   ]
  },
  {
   "cell_type": "markdown",
   "id": "a2c02962",
   "metadata": {},
   "source": [
    "On n’avait pas fini avec nos prénoms.\n",
    "\n",
    "Notre objectif est de concevoir une page web dynamique qui affiche le nombre de naissances en région Val de Loire pour un prénom donné par l’utilisateur à partir des données de [https://data.centrevaldeloire.fr/explore/dataset/prenoms-depuis-1900-centre-val-de-loire/information/](https://data.centrevaldeloire.fr/explore/dataset/prenoms-depuis-1900-centre-val-de-loire/information/)  \n",
    "\n",
    "Assurez-vous d’avoir un module pour le traitement des prénoms (via l’API ou le ficher CSV) que vous pouvez importer. Dans le cas contraire vous pouvez utiliser [prenoms_api.py](https://github.com/clement-plancq/cesr-algo-2/blob/main/exos/prenoms_api.py)"
   ]
  },
  {
   "cell_type": "markdown",
   "id": "fd44bb2c",
   "metadata": {},
   "source": [
    "## Préalable : mise en place et intégration du module\n",
    "\n",
    "Vous pouvez créer un nouveau fichier pour ce travail sur les prénoms version web. Nommez-le  `prenoms_app.py`"
   ]
  },
  {
   "cell_type": "code",
   "execution_count": null,
   "id": "585032b4",
   "metadata": {},
   "outputs": [],
   "source": [
    "from flask import Flask\n",
    "from flask import render_template\n",
    "from flask import request\n",
    "\n",
    "from prenoms_api import firstnameEvolution\n",
    "\n",
    "app = Flask(__name__)\n",
    "\n",
    "@app.route('/', methods=['GET'])\n",
    "def prenom_form():\n",
    "    return render_template('prenom_form.html')\n",
    "\n",
    "@app.route('/prenom_result', methods=['POST'])\n",
    "def prenom_result():\n",
    "    firstname = request.form['firstname']\n",
    "    return render_template('prenom_result.html', firstname=firstname)\n"
   ]
  },
  {
   "cell_type": "markdown",
   "id": "4beef201",
   "metadata": {},
   "source": [
    "`templates/prenom_form.html`"
   ]
  },
  {
   "cell_type": "code",
   "execution_count": null,
   "id": "af4a06ef",
   "metadata": {},
   "outputs": [],
   "source": [
    "<!DOCTYPE html>\n",
    "<html>\n",
    "<head>\n",
    "    <meta charset=\"UTF-8\">\n",
    "    <meta name=\"viewport\" content=\"width=device-width, initial-scale=1.0\">\n",
    "    <title>Prénoms</title>\n",
    "</head>\n",
    "<body>\n",
    "    <h2>Saisissez un prénom</h2>\n",
    "    <form method=\"POST\" action=\"/prenom_result\">\n",
    "        <input type=\"text\" name=\"firstname\" required>\n",
    "        <button type=\"submit\">Submit</button>\n",
    "    </form>\n",
    "</body>\n",
    "</html>"
   ]
  },
  {
   "cell_type": "markdown",
   "id": "d6c3f1f6",
   "metadata": {},
   "source": [
    "`templates/prenom_result.html`"
   ]
  },
  {
   "cell_type": "code",
   "execution_count": null,
   "id": "db97ff15",
   "metadata": {},
   "outputs": [],
   "source": [
    "<!DOCTYPE html>\n",
    "<html>\n",
    "\n",
    "<head>\n",
    "    <meta charset=\"UTF-8\">\n",
    "    <meta name=\"viewport\" content=\"width=device-width, initial-scale=1.0\">\n",
    "    <script src=\"https://cdn.plot.ly/plotly-2.29.1.min.js\" charset=\"utf-8\"></script>\n",
    "    <title>Prénoms</title>\n",
    "</head>\n",
    "\n",
    "<body>\n",
    "    <h2>Évolution du prénom {{ firstname }}</h2>\n",
    "</body>\n",
    "\n",
    "</html>"
   ]
  },
  {
   "cell_type": "markdown",
   "id": "817cd3ff",
   "metadata": {},
   "source": [
    "## Première étape : tableau\n",
    "\n",
    "Dans un premier temps nous afficherons les données dans un tableau html\n",
    "\n"
   ]
  },
  {
   "cell_type": "markdown",
   "id": "8f4625c0",
   "metadata": {},
   "source": [
    "On va essayer d’avancer à petit pas\n",
    "1. appelez la fonction `firstnameEvolution` avec le prénom donné par l’utilisateur et stockez le résultat\n",
    "2. passez le nombre de résultat au template et affichez le\n",
    "3. ajoutez un squelette de tableau résultat au template en précisant l’en-tête (Année, Nombre de naissances)\n",
    "4. à l’aide de cette [documentation](https://jinja.palletsprojects.com/en/3.1.x/templates/#for) utilisez une boucle `for` dans votre template pour générer le tableau de résultats\n",
    "5. Si vous le désirez vous pouvez utiliser des règles CSS pour la mise en forme. Vos propres règles (voir [doc](https://developer.mozilla.org/fr/docs/Learn/CSS/Building_blocks/Styling_tables)) ou avec un module si vous préférez"
   ]
  },
  {
   "cell_type": "markdown",
   "id": "4f635be2",
   "metadata": {},
   "source": [
    "## Deuxième étape : graphique\n",
    "\n",
    "Ensuite nous essaierons d’utiliser https://plotly.com/javascript/getting-started/\n",
    "\n",
    "Ajoutez à votre template un graphique tout bête comme ceux disponibles ici : https://plotly.com/javascript/bar-charts/\n",
    "\n",
    "Comment ajouter dynamiquement les données du prénom recherché pour générer un graphique ?  Il y aurait plusieurs options mais la plus simple à mon sens est de passer par les [Graph Objects](https://plotly.com/python/graph-objects/) que nous pourrons exporter en JSON avec https://plotly.com/python-api-reference/generated/plotly.io.to_json.html"
   ]
  },
  {
   "cell_type": "markdown",
   "id": "d5366e15",
   "metadata": {},
   "source": [
    "## Troisième étape : améliorer le traitement\n",
    "\n",
    "Pour le moment le prénom doit être saisi intégralement en majuscule. Ajoutez un pré-traitement pour donner plus de liberté à l’utilisateur lors de la saisie.\n",
    "\n",
    "Comment faire pour les prénoms accentués ?"
   ]
  }
 ],
 "metadata": {
  "kernelspec": {
   "display_name": "Python 3 (ipykernel)",
   "language": "python",
   "name": "python3"
  },
  "language_info": {
   "codemirror_mode": {
    "name": "ipython",
    "version": 3
   },
   "file_extension": ".py",
   "mimetype": "text/x-python",
   "name": "python",
   "nbconvert_exporter": "python",
   "pygments_lexer": "ipython3",
   "version": "3.10.12"
  }
 },
 "nbformat": 4,
 "nbformat_minor": 5
}
