{
 "cells": [
  {
   "cell_type": "markdown",
   "id": "19d13f42",
   "metadata": {},
   "source": [
    "# Algo 2 – Python\n",
    "\n",
    "## Cours 8 – Web côté serveur\n",
    "\n",
    "###  Master Humanités Numériques du CESR"
   ]
  },
  {
   "cell_type": "markdown",
   "id": "8549b7ec",
   "metadata": {},
   "source": [
    "La semaine passée nous avons vu comment émettre des requêtes à une API à l’aide du module `requests`\n",
    "\n",
    "Nous allons voir maintenant comment envoyer des réponses à l’aide d’un serveur web\n",
    "\n",
    "![serveur web](https://developer.mozilla.org/fr/docs/Learn/Common_questions/Web_mechanics/What_is_a_web_server/web-server.svg)  \n",
    "<small>[https://developer.mozilla.org/fr/docs/Learn/Common_questions/Web_mechanics/What_is_a_web_server](https://developer.mozilla.org/fr/docs/Learn/Common_questions/Web_mechanics/What_is_a_web_server)</small>\n",
    "\n",
    "Un serveur HTTP reçoit des requêtes et renvoie des réponses.\n",
    "\n",
    "Dans le cas d’un serveur web *statique*, les réponses sont des fichiers html et des fichiers css, javascript, image, … les requêtes HTTP contiennent des noms de chemins qui peuvent correspondre à l’arborescence des dossiers *servis* par le serveur "
   ]
  },
  {
   "cell_type": "markdown",
   "id": "51e0092e",
   "metadata": {},
   "source": [
    "✍️ Exercice ✍️\n",
    "\n",
    "- Dans un dossier `web`, créez deux fichiers html (`index.html` et `about.html`). Chaque fichier devra contenir un lien vers l’autre, pour le reste peu importe le contenu.\n",
    "\n",
    "- Ouvrez un terminal, déplacez vous dans le dossier `web` (`cd web`)\n",
    "- Tapez la commande `python3 -m http.server` \n",
    "- Connectez-vous à `http://localhost:8000`\n",
    "- (ctrl-C pour arrềter)\n",
    "\n",
    "Bravo ! Vous avez lancé un serveur web local. Il va répondre aux requêtes de type `GET` à condition que le chemin demandé corresponde à un fichier de votre dossier `web`.\n",
    "\n",
    "Essayez de demander par exemple `http://localhost:8000/spaghetti` et voyez ce qu’il se passe.\n",
    "\n",
    "[`http.server`](https://docs.python.org/3/library/http.server.html) est un serveur web minimaliste en Python. Il peut être utilisé en développement, à des fins de test ou de prototypage mais pas en production.\n"
   ]
  },
  {
   "cell_type": "markdown",
   "id": "dddfa584",
   "metadata": {},
   "source": [
    "### Flask\n",
    "\n",
    "[Flask](https://flask.palletsprojects.com/) est un framework Python minimaliste qui permet de construire des applications web rapidement.\n",
    "\n",
    "Dans la même veine il y aussi [CherryPy](https://cherrypy.dev/), [Pylons](https://pylonsproject.org/) ou encore [FastAPI](https://fastapi.tiangolo.com/) qui est plutôt dédié à la construction d’API.\n",
    "\n",
    "[Django](https://www.djangoproject.com/) dont vous avez entendu parler a une approche différente. Il est plus complet, intègre beaucoup de fonctionnalités et plus adapté aux projets de grande taille."
   ]
  },
  {
   "cell_type": "markdown",
   "id": "061abc9b",
   "metadata": {},
   "source": [
    "Nous allons reprendre beaucoup d’éléments de [https://flask.palletsprojects.com/en/3.0.x/quickstart/](https://flask.palletsprojects.com/en/3.0.x/quickstart/). Le mieux est de s’y référer directement.\n",
    "\n",
    "#### Installation\n",
    "\n",
    "Pour installer Flask et ses dépendances : \n",
    "`python3 -m pip install Flask --user` ou `pip install Flask --user`\n",
    "\n",
    "#### Première page\n",
    "\n"
   ]
  },
  {
   "cell_type": "code",
   "execution_count": null,
   "id": "b2e3eb44",
   "metadata": {},
   "outputs": [],
   "source": [
    "from flask import Flask\n",
    "\n",
    "app = Flask(__name__)\n",
    "\n",
    "@app.route(\"/\")\n",
    "def hello():\n",
    "    return \"<p>Bonjour !</p>\""
   ]
  },
  {
   "cell_type": "markdown",
   "id": "cdcee494",
   "metadata": {},
   "source": [
    "- Sauvegardez ces lignes dans un fichier `hello.py`\n",
    "- Dans un terminal tapez : `flask --app hello run`\n",
    "- Connectez-vous à http://localhost:5000"
   ]
  },
  {
   "cell_type": "markdown",
   "id": "f5c9db2f",
   "metadata": {},
   "source": [
    "La logique est différente de celle d’`http.server`. Ici vous ne servez pas des fichiers, vous définissez des *routes* (avec le décorateur `@app.route`) et vous générez des réponses. En cela `Flask` est un serveur dynamique, la réponse apportée pourra dépendre de la requête et de ses éventuels paramètres."
   ]
  },
  {
   "cell_type": "markdown",
   "id": "bde77524",
   "metadata": {},
   "source": [
    "### Variables\n",
    "\n",
    "Vous pouvez utiliser des routes avec des variables :"
   ]
  },
  {
   "cell_type": "code",
   "execution_count": 1,
   "id": "a3d5b03f",
   "metadata": {},
   "outputs": [],
   "source": [
    "from flask import Flask\n",
    "\n",
    "app = Flask(__name__)\n",
    "\n",
    "@app.route(\"/\")\n",
    "def hello():\n",
    "    return \"<p>Bonjour !</p>\"\n",
    "\n",
    "@app.route(\"/hello/<prenom>\")\n",
    "def hello_2(prenom):\n",
    "    return f\"<p>Bonjour {prenom} !</p>\""
   ]
  },
  {
   "cell_type": "markdown",
   "id": "5bffb0a8",
   "metadata": {},
   "source": [
    "Pour tester vos changements vous devez arrêter (ctrl-C) et relancer le serveur. Vous pouvez vous épargner cette manipulation en utilisant la commande :  \n",
    "`flask --app hello --debug run`\n",
    "\n",
    "Connectez vous à `http://localhost:5000` puis `http://localhost:5000/hello/toi` puis amusez-vous à changer la valeur de la variable pour voir le résultat."
   ]
  },
  {
   "cell_type": "markdown",
   "id": "30611d6e",
   "metadata": {},
   "source": [
    "### Templates\n",
    "\n",
    "Pour le moment nos réponses ne sont pas très correctes. Un élément `<p>` ne fait pas une page html valide.  \n",
    "`Flask`, comme beaucoup de framework web, permet d’utiliser des *templates* (des patrons) de page html dans lequels on insère des variables et des sections dynamiques.  \n",
    "`Flask` utilise le moteur de template [Jinja](https://jinja.palletsprojects.com/en/3.1.x/templates/)"
   ]
  },
  {
   "cell_type": "markdown",
   "id": "b895a8f7",
   "metadata": {},
   "source": [
    "Notre fichier `hello.py` devient :"
   ]
  },
  {
   "cell_type": "code",
   "execution_count": null,
   "id": "fbf84fd0",
   "metadata": {},
   "outputs": [],
   "source": [
    "from flask import Flask\n",
    "from flask import render_template\n",
    "\n",
    "app = Flask(__name__)\n",
    "\n",
    "@app.route('/')\n",
    "def hello():\n",
    "    return \"<p>Bonjour !</p>\"\n",
    "\n",
    "\n",
    "@app.route('/hello/')\n",
    "@app.route('/hello/<prenom>')\n",
    "def hello_2(prenom=None):\n",
    "    return render_template('hello.html', name=prenom)"
   ]
  },
  {
   "cell_type": "markdown",
   "id": "adc47b2b",
   "metadata": {},
   "source": [
    "Vous ajoutez à votre dossier `web` le fichier `templates/hello.html` qui contiendra :"
   ]
  },
  {
   "cell_type": "code",
   "execution_count": null,
   "id": "3c4bbe6a",
   "metadata": {},
   "outputs": [],
   "source": [
    "<!doctype html>\n",
    "<html>\n",
    "\n",
    "<head>\n",
    "    <meta charset=\"UTF-8\">\n",
    "    <meta name=\"viewport\" content=\"width=device-width, initial-scale=1.0\">\n",
    "    <title>Hello</title>\n",
    "</head>\n",
    "\n",
    "<body>\n",
    "    {% if name %}\n",
    "    <h1>Bonjour {{ name }} !</h1>\n",
    "    {% else %}\n",
    "    <h1>Bonjour tout le monde !</h1>\n",
    "    {% endif %}\n",
    "</body>\n",
    "\n",
    "</html>"
   ]
  },
  {
   "cell_type": "markdown",
   "id": "67275d22",
   "metadata": {},
   "source": [
    "### Requêtes\n",
    "\n",
    "Évidemment `Flask` permet de manipuler des requêtes HTTP avec des paramètres.  \n",
    "On va ajouter une route qui répond à une requête utilisant les méthodes `GET` ou `POST` (utilisez l’inspecteur de votre navigateur pour voir les en-têtes de requête et de réponses HTTP)"
   ]
  },
  {
   "cell_type": "code",
   "execution_count": null,
   "id": "e4e97a3a",
   "metadata": {},
   "outputs": [],
   "source": [
    "@app.route('/form/', methods=['GET', 'POST'])\n",
    "def hello_form():\n",
    "    if request.method == 'POST':\n",
    "        # Get the value of the 'firstname' field from the form\n",
    "        firstname = request.form['firstname']\n",
    "        return render_template('form_result.html', firstname=firstname)\n",
    "    return render_template('form.html')"
   ]
  },
  {
   "cell_type": "markdown",
   "id": "5fb7a2ef",
   "metadata": {},
   "source": [
    "Les templates ce sera :\n",
    "- `form.html`\n",
    "Attention il faut que le chemin indiqué en valeur de l’attribut `action` corresponde à votre route"
   ]
  },
  {
   "cell_type": "code",
   "execution_count": null,
   "id": "71b75ba0",
   "metadata": {},
   "outputs": [],
   "source": [
    "<!DOCTYPE html>\n",
    "<html>\n",
    "<head>\n",
    "    <meta charset=\"UTF-8\">\n",
    "    <meta name=\"viewport\" content=\"width=device-width, initial-scale=1.0\">\n",
    "    <title>Hello</title>\n",
    "</head>\n",
    "<body>\n",
    "    <h2>Quel est votre prénom ?</h2>\n",
    "    <form method=\"POST\" action=\"/form/\">\n",
    "        <input type=\"text\" name=\"firstname\" required>\n",
    "        <button type=\"submit\">Submit</button>\n",
    "    </form>\n",
    "</body>\n",
    "</html>\n"
   ]
  },
  {
   "cell_type": "markdown",
   "id": "80f3cadc",
   "metadata": {},
   "source": [
    "- `form_result.html`"
   ]
  },
  {
   "cell_type": "code",
   "execution_count": null,
   "id": "4a874854",
   "metadata": {
    "scrolled": true
   },
   "outputs": [],
   "source": [
    "<!DOCTYPE html>\n",
    "<html>\n",
    "<head>\n",
    "    <meta charset=\"UTF-8\">\n",
    "    <meta name=\"viewport\" content=\"width=device-width, initial-scale=1.0\">\n",
    "    <title>Hello</title>\n",
    "</head>\n",
    "<body>\n",
    "    <h2>Bonjour {{ firstname }}</h2>\n",
    "</body>\n",
    "</html>"
   ]
  },
  {
   "cell_type": "markdown",
   "id": "724b9d29",
   "metadata": {},
   "source": [
    "### Retour à nos prénoms\n",
    "\n",
    "Notre objectif est de concevoir une page web dynamique qui affiche le nombre de naissances en région Val de Loire pour un prénom donné par l’utilisateur à partir des données de [https://data.centrevaldeloire.fr/explore/dataset/prenoms-depuis-1900-centre-val-de-loire/information/](https://data.centrevaldeloire.fr/explore/dataset/prenoms-depuis-1900-centre-val-de-loire/information/)  \n",
    "\n",
    "Nous pouvons aussi intégrer des modules de notre fabrication à `hello.py`. À commencer par `prenoms.py` (version API ou CSV, comme vous voulez).\n",
    "\n",
    "Dans un premier temps nous afficherons les données dans un tableau html\n",
    "\n",
    "Ensuite nous essaierons d’utiliser https://plotly.com/graphing-libraries/"
   ]
  }
 ],
 "metadata": {
  "kernelspec": {
   "display_name": "Python 3 (ipykernel)",
   "language": "python",
   "name": "python3"
  },
  "language_info": {
   "codemirror_mode": {
    "name": "ipython",
    "version": 3
   },
   "file_extension": ".py",
   "mimetype": "text/x-python",
   "name": "python",
   "nbconvert_exporter": "python",
   "pygments_lexer": "ipython3",
   "version": "3.10.12"
  }
 },
 "nbformat": 4,
 "nbformat_minor": 5
}
