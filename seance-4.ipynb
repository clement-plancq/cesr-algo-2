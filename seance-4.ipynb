{
 "cells": [
  {
   "cell_type": "markdown",
   "id": "5db53cac",
   "metadata": {
    "slideshow": {
     "slide_type": "slide"
    }
   },
   "source": [
    "# Algo 2 – Python\n",
    "\n",
    "## Cours 3 – Dictionnaires (et des exercices) again\n",
    "\n",
    "###  Master Humanités Numériques du CESR"
   ]
  },
  {
   "cell_type": "markdown",
   "id": "a76d630b",
   "metadata": {
    "slideshow": {
     "slide_type": "slide"
    }
   },
   "source": [
    "## Corrections\n",
    "\n",
    "### MIME TYPE (codingame)\n",
    "\n",
    "Je vous avais demandé d’y réfléchir et au moins d’écrire l’algorithme.\n",
    "\n",
    "C’est une pratique courante et même recommandée, on utilise alors une notation dite « pseudo-code », en langage presque naturel.\n",
    "\n",
    "L’algorithme écrit en pseudo-code n’est pas lié à un langage de programmation en particulier\n",
    "\n",
    "Le pseudo-code est différent des commentaires que vous pouvez écrire dans le code"
   ]
  },
  {
   "cell_type": "markdown",
   "id": "0204f3a7",
   "metadata": {
    "slideshow": {
     "slide_type": "slide"
    }
   },
   "source": [
    "Le pseudo-code permet de séparer la composition de l’algorithme de l’écriture du code source\n",
    "\n",
    "Il n’y a pas de norme ni même de convention pour le pseudo-code mais quelques principes à respecter :\n",
    " - une seule instruction par ligne\n",
    " - indentation pour les structures\n",
    " - affectation avec le signe := (ou parfois <-)\n",
    " - mots clés en gras ou en majuscule pour la lisibilité"
   ]
  },
  {
   "cell_type": "markdown",
   "id": "2ef7c23c",
   "metadata": {
    "slideshow": {
     "slide_type": "slide"
    }
   },
   "source": [
    "```\n",
    "dico_mime : dictionnaire  \n",
    "n : entier\n",
    "q : entier\n",
    "\n",
    "// extract\n",
    "POUR i DE 0 À n  \n",
    "    association := LIRE  \n",
    "    chops := DECOUPE(association)  \n",
    "    ext := MINUSCULE(chops[0])  \n",
    "    mime := chops[1]  \n",
    "    dico_mime[ext] := mime  \n",
    "    \n",
    "// report\n",
    "POUR i DE 0 À q\n",
    "    fname := LIRE\n",
    "    chops := DECOUPE(fname, \".\")\n",
    "    SI longueur chops > 1 ALORS\n",
    "        ext := MINUSCULE(chops[-1])\n",
    "    SINON\n",
    "        ext := vide\n",
    "    SI dico_mime[ext] ALORS:\n",
    "        ECRIRE(dico_mime[ext])\n",
    "    SINON\n",
    "        ECRIRE(\"UNKNOWN)\n",
    "```"
   ]
  },
  {
   "cell_type": "markdown",
   "id": "e229611f",
   "metadata": {
    "slideshow": {
     "slide_type": "slide"
    }
   },
   "source": [
    "## ✍️ Exercice ✍️\n",
    "\n",
    "Travail sur le fichier `data/notes-2.csv`. Calculez \n",
    " - la moyenne de chaque élève toutes matières confondues\n",
    " - la moyenne de chaque matière"
   ]
  },
  {
   "cell_type": "code",
   "execution_count": null,
   "id": "38fb5311",
   "metadata": {},
   "outputs": [],
   "source": [
    "# lire le fichier et extraire les données\n",
    "# dans quelle(s) structure(s) de données ?\n",
    "\n",
    "with open('data/notes-2.csv') as input_file:\n",
    "    reader = csv.DictReader(input_file)\n",
    "    # pour chaque ligne du fichier (hors en-tête)\n",
    "    # chaque ligne (row) est un dict\n",
    "    for row in reader:\n",
    "\n",
    "# réponse question 1\n",
    "\n",
    "# réponse question 2"
   ]
  },
  {
   "cell_type": "markdown",
   "id": "56670f98",
   "metadata": {
    "slideshow": {
     "slide_type": "slide"
    }
   },
   "source": [
    "### Passage d’arguments avec  `sys.argv`\n",
    "\n",
    "Les noms de chemin des fichiers de données ne doivent pas être écrits dans les scripts  \n",
    "(*si vous déplacez votre fichier de donnée, le script ne fonctionne plus*)  \n",
    "\n",
    "Une des solutions est de passer les fichiers de données en arguments lors de l’appel du script\n",
    "\n",
    "Dans une ligne de commande les arguments sont séparés par des espaces\n",
    "\n",
    "`python calcul_notes.py data/notes-2.csv`"
   ]
  },
  {
   "cell_type": "markdown",
   "id": "5c472b82",
   "metadata": {
    "slideshow": {
     "slide_type": "subslide"
    }
   },
   "source": [
    "Votre script doit pouvoir récupérer l’argument ou les arguments passés  \n",
    "Une façon de faire est d’utiliser [`sys.argv`](https://docs.python.org/3/library/sys.html#sys.argv)  \n",
    "`sys.argv` est la liste qui contient les arguments passés en ligne de commande \n",
    "\n",
    " - `sys.argv[0]` est le nom du script\n",
    " - `sys.argv[1]` est le premier argument"
   ]
  },
  {
   "cell_type": "markdown",
   "id": "5a488dbe",
   "metadata": {},
   "source": [
    "## ✍️ Exercice ✍️\n",
    "\n",
    "Écrire un script nommé `argument_bidon.py` qui donne en retour le nombre d’arguments reçus et la liste des arguments, un argument par ligne\n",
    "\n",
    "`python argument_bidon.py Fromont 2_Lions`  \n",
    "\n",
    "```\n",
    "2\n",
    "Fromont\n",
    "2_Lions\n",
    "```"
   ]
  },
  {
   "cell_type": "markdown",
   "id": "06ccac6c",
   "metadata": {},
   "source": [
    "## ✍️ Exercice ✍️\n",
    "\n",
    "Travail sur https://data.centrevaldeloire.fr/explore/dataset/monuments-sites-musees-en-region-centre-val-de-loire/table/\n",
    "\n",
    "- Listez les entrées qui n’ont pas de site internet\n",
    "- Regroupez par département les entrées qui n’ont pas de site internet\n",
    "- Quelles sont les entrées qui acceptent les visites pédagogiques et dont la visite dure moins d’une heure\n",
    "- Comptez les entrées par catégorie pour chaque département"
   ]
  },
  {
   "cell_type": "markdown",
   "id": "307f5767",
   "metadata": {},
   "source": [
    "## ✍️ Exercice ✍️\n",
    "\n",
    "Travail sur https://data.centrevaldeloire.fr/explore/dataset/prenoms-depuis-1900-centre-val-de-loire/\n",
    "- Listez les 10 prénoms féminins et les 10 prénoms masculins les plus donnés dans la région en 2022\n",
    "- Pour 2022, listez les prénoms féminins donnés au moins 5 fois et qui se terminent par 'a' \n",
    "- Calculez la taille moyenne des prénoms par année\n",
    "- Écrire une fonction qui donne l’évolution d’un prénom x depuis 2000"
   ]
  }
 ],
 "metadata": {
  "celltoolbar": "Slideshow",
  "kernelspec": {
   "display_name": "Python 3 (ipykernel)",
   "language": "python",
   "name": "python3"
  },
  "language_info": {
   "codemirror_mode": {
    "name": "ipython",
    "version": 3
   },
   "file_extension": ".py",
   "mimetype": "text/x-python",
   "name": "python",
   "nbconvert_exporter": "python",
   "pygments_lexer": "ipython3",
   "version": "3.10.12"
  }
 },
 "nbformat": 4,
 "nbformat_minor": 5
}
