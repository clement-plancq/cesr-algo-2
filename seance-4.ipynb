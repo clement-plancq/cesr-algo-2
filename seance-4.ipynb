{
 "cells": [
  {
   "cell_type": "markdown",
   "id": "5db53cac",
   "metadata": {
    "slideshow": {
     "slide_type": "slide"
    }
   },
   "source": [
    "# Algo 2 – Python\n",
    "\n",
    "## Cours 3 – Dictionnaires (et des exercices) again\n",
    "\n",
    "###  Master Humanités Numériques du CESR"
   ]
  },
  {
   "cell_type": "markdown",
   "id": "a76d630b",
   "metadata": {
    "slideshow": {
     "slide_type": "slide"
    }
   },
   "source": [
    "## Corrections\n",
    "\n",
    "### MIME TYPE (codingame)\n",
    "\n",
    "Je vous avais demandé d’y réfléchir et au moins d’écrire l’algorithme.\n",
    "\n",
    "C’est une pratique courante et même recommandée, on utilise alors une notation dite « pseudo-code », en langage presque naturel.\n",
    "\n",
    "L’algorithme écrit en pseudo-code n’est pas lié à un langage de programmation en particulier\n",
    "\n",
    "Le pseudo-code est différent des commentaires que vous pouvez écrire dans le code"
   ]
  },
  {
   "cell_type": "markdown",
   "id": "0204f3a7",
   "metadata": {
    "slideshow": {
     "slide_type": "slide"
    }
   },
   "source": [
    "Le pseudo-code permet de séparer la composition de l’algorithme de l’écriture du code source\n",
    "\n",
    "Il n’y a pas de norme ni même de convention pour le pseudo-code mais quelques principes à respecter :\n",
    " - une seule instruction par ligne\n",
    " - indentation pour les structures\n",
    " - affectation avec le signe := (ou parfois <-)\n",
    " - mots clés en gras ou en majuscule pour la lisibilité"
   ]
  },
  {
   "cell_type": "markdown",
   "id": "2ef7c23c",
   "metadata": {
    "slideshow": {
     "slide_type": "slide"
    }
   },
   "source": [
    "```\n",
    "dico_mime : dictionnaire  \n",
    "n : entier\n",
    "q : entier\n",
    "\n",
    "// extract\n",
    "POUR i DE 0 À n  \n",
    "    association := LIRE  \n",
    "    chops := DECOUPE(association)  \n",
    "    ext := MINUSCULE(chops[0])  \n",
    "    mime := chops[1]  \n",
    "    dico_mime[ext] := mime  \n",
    "    \n",
    "// report\n",
    "POUR i DE 0 À q\n",
    "    fname := LIRE\n",
    "    chops := DECOUPE(fname, \".\")\n",
    "    SI longueur chops > 1 ALORS\n",
    "        ext := MINUSCULE(chops[-1])\n",
    "    SINON\n",
    "        ext := vide\n",
    "    SI dico_mime[ext] ALORS:\n",
    "        ECRIRE(dico_mime[ext])\n",
    "    SINON\n",
    "        ECRIRE(\"UNKNOWN)\n",
    "```"
   ]
  },
  {
   "cell_type": "markdown",
   "id": "e229611f",
   "metadata": {
    "slideshow": {
     "slide_type": "slide"
    }
   },
   "source": [
    "## ✍️ Exercice ✍️\n",
    "\n",
    "Travail sur le fichier `data/notes-2.csv`. Calculez \n",
    " - la moyenne de chaque élève toutes matières confondues\n",
    " - la moyenne de chaque matière"
   ]
  },
  {
   "cell_type": "code",
   "execution_count": 3,
   "id": "43f94113",
   "metadata": {
    "slideshow": {
     "slide_type": "subslide"
    }
   },
   "outputs": [
    {
     "name": "stdout",
     "output_type": "stream",
     "text": [
      "123 : 12.333333333333334\n",
      "124 : 18\n",
      "125 : 12\n",
      "126 : 12.333333333333334\n",
      "127 : 14\n",
      "128 : 13.666666666666666\n",
      "129 : 11.666666666666666\n",
      "\n",
      "\n",
      "\n",
      "histoire : 13.428571428571429\n",
      "maths : 13.714285714285714\n",
      "SNT : 13.142857142857142\n"
     ]
    }
   ],
   "source": [
    "import csv\n",
    "import statistics\n",
    "\n",
    "notes_eleves = {} # en clé le numéro d’élève, en valeur la liste des notes de l’élève\n",
    "notes_matieres = {} # en clé la matière, en valeur la liste des notes de la matière\n",
    "\n",
    "# ouverture du fichier\n",
    "with open('data/notes-2.csv') as input_file:\n",
    "    # création d’un objet csv.DictReader\n",
    "    reader = csv.DictReader(input_file)\n",
    "    # pour chaque ligne du fichier (hors en-tête)\n",
    "    # chaque ligne (row) est un dict\n",
    "    for row in reader:\n",
    "        id_eleve = row[\"numero-eleve\"]\n",
    "        # j’ajoute une association cle:valeur dans le dict notes_eleves\n",
    "        # conversion en int des notes\n",
    "        notes_eleves[id_eleve] = [int(row[\"histoire\"]), int(row[\"maths\"]), int(row[\"SNT\"])]\n",
    "        # pour chaque matiere\n",
    "        for matiere in [\"histoire\", \"maths\", \"SNT\"]:\n",
    "            # si pas de note alors je crée une association cle:valeur dans le dict notes_matieres\n",
    "            # valeur est une liste\n",
    "            if not(matiere in notes_matieres):\n",
    "                notes_matieres[matiere] = []\n",
    "            # dans tous les cas j’ajoute la note de la matière pour l’élève courant à la liste existante\n",
    "            # conversion en int des notes\n",
    "            notes_matieres[matiere].append(int(row[matiere]))\n",
    "            \n",
    "for eleve in notes_eleves:\n",
    "        # notes_eleves[eleve] est une liste\n",
    "        # je peux calculer la moyenne avec statistics.mean\n",
    "        moyenne = statistics.mean(notes_eleves[eleve])\n",
    "        print(f\"{eleve} : {moyenne}\")\n",
    "\n",
    "print(\"\\n\\n\")        \n",
    "        \n",
    "for matiere in notes_matieres:\n",
    "        moyenne = statistics.mean(notes_matieres[matiere])\n",
    "        print(f\"{matiere} : {moyenne}\")"
   ]
  },
  {
   "cell_type": "code",
   "execution_count": 1,
   "id": "f71bd855",
   "metadata": {},
   "outputs": [
    {
     "name": "stdout",
     "output_type": "stream",
     "text": [
      "123 : 11.75\n",
      "124 : 15.75\n",
      "125 : 11.75\n",
      "126 : 12.25\n",
      "127 : 14.25\n",
      "128 : 10.75\n",
      "129 : 11.25\n",
      "\n",
      "\n",
      "\n",
      "histoire : 13.428571428571429\n",
      "maths : 13.714285714285714\n",
      "SNT : 13.142857142857142\n",
      "SVT : 9.857142857142858\n"
     ]
    }
   ],
   "source": [
    "\"\"\"\n",
    "La même chose qu’au-dessus mais qui pourrait accepter plus de matières\n",
    "\"\"\"\n",
    "\n",
    "import csv\n",
    "import statistics\n",
    "\n",
    "notes_eleves = {} # en clé le numéro d’élève, en valeur la liste des notes de l’élève\n",
    "notes_matieres = {} # en clé la matière, en valeur la liste des notes de la matière\n",
    "\n",
    "with open('data/notes-2.csv') as input_file:\n",
    "    reader = csv.DictReader(input_file)\n",
    "    # c’est ici que ça se joue\n",
    "    # reader.fieldnames renvoie la liste des entêtes de colonne\n",
    "    # on exclut la première colonne pour avoir la liste des matières\n",
    "    matieres = reader.fieldnames[1:]\n",
    "    for row in reader:\n",
    "        id_eleve = row[\"numero-eleve\"]\n",
    "        # j’ajoute une association cle:valeur dans le dict notes_eleves\n",
    "        # conversion en int des notes\n",
    "        notes_eleves[id_eleve] = [int(row[item]) for item in matieres]\n",
    "        for matiere in matieres:\n",
    "            # si pas de note alors je crée une association cle:valeur dans le dict notes_matieres\n",
    "            # valeur est une liste\n",
    "            if not(matiere in notes_matieres):\n",
    "                notes_matieres[matiere] = []\n",
    "            # dans tous les cas j’ajoute la note de la matière pour l’élève courant à la liste existante\n",
    "            # conversion en int des notes\n",
    "            notes_matieres[matiere].append(int(row[matiere]))\n",
    "            \n",
    "for eleve in notes_eleves:\n",
    "        # notes_eleves[eleve] est une liste\n",
    "        # je peux calculer la moyenne avec statistics.mean\n",
    "        moyenne = statistics.mean(notes_eleves[eleve])\n",
    "        print(f\"{eleve} : {moyenne}\")\n",
    "\n",
    "print(\"\\n\\n\")        \n",
    "        \n",
    "for matiere in notes_matieres:\n",
    "        moyenne = statistics.mean(notes_matieres[matiere])\n",
    "        print(f\"{matiere} : {moyenne}\")"
   ]
  },
  {
   "cell_type": "markdown",
   "id": "56670f98",
   "metadata": {
    "slideshow": {
     "slide_type": "slide"
    }
   },
   "source": [
    "### Passage d’arguments avec  `sys.argv`\n",
    "\n",
    "Les noms de chemin des fichiers de données ne doivent pas être écrits dans les scripts  \n",
    "(*si vous déplacez votre fichier de donnée, le script ne fonctionne plus*)  \n",
    "\n",
    "Une des solutions est de passer les fichiers de données en arguments lors de l’appel du script\n",
    "\n",
    "Dans une ligne de commande les arguments sont séparés par des espaces\n",
    "\n",
    "`python calcul_notes.py data/notes-2.csv`"
   ]
  },
  {
   "cell_type": "markdown",
   "id": "5c472b82",
   "metadata": {
    "slideshow": {
     "slide_type": "subslide"
    }
   },
   "source": [
    "Votre script doit pouvoir récupérer l’argument ou les arguments passés  \n",
    "Une façon de faire est d’utiliser [`sys.argv`](https://docs.python.org/3/library/sys.html#sys.argv)  \n",
    "`sys.argv` est la liste qui contient les arguments passés en ligne de commande \n",
    "\n",
    " - `sys.argv[0]` est le nom du script\n",
    " - `sys.argv[1]` est le premier argument"
   ]
  },
  {
   "cell_type": "markdown",
   "id": "5a488dbe",
   "metadata": {
    "slideshow": {
     "slide_type": "slide"
    }
   },
   "source": [
    "## ✍️ Exercice ✍️\n",
    "\n",
    "Écrire un script nommé `argument_bidon.py` qui donne en retour le nombre d’arguments reçus et la liste des arguments, un argument par ligne\n",
    "\n",
    "`python argument_bidon.py Fromont 2_Lions`  \n",
    "\n",
    "```\n",
    "2\n",
    "Fromont\n",
    "2_Lions\n",
    "```"
   ]
  },
  {
   "cell_type": "markdown",
   "id": "06ccac6c",
   "metadata": {
    "slideshow": {
     "slide_type": "slide"
    }
   },
   "source": [
    "## ✍️ Exercice ✍️\n",
    "\n",
    "Travail sur https://data.centrevaldeloire.fr/explore/dataset/monuments-sites-musees-en-region-centre-val-de-loire/table/\n",
    "\n",
    "- Listez les entrées qui n’ont pas de site internet\n",
    "- Regroupez par département les entrées qui n’ont pas de site internet\n",
    "- Quelles sont les entrées qui acceptent les visites pédagogiques et dont la visite dure moins d’une heure\n",
    "- Comptez les entrées par catégorie pour chaque département"
   ]
  },
  {
   "cell_type": "code",
   "execution_count": 50,
   "id": "a8fcf1c9",
   "metadata": {
    "slideshow": {
     "slide_type": "slide"
    }
   },
   "outputs": [
    {
     "name": "stdout",
     "output_type": "stream",
     "text": [
      "Il y 378 entrées sans site web\n",
      "Voici les 10 premières : \n",
      "- Château de Rochambeau\n",
      "- Chapelle Saint-Gilles\n",
      "- Eglise Saint-Hilaire et Musée d'Art Sacré\n",
      "- Musée de la Pierre à fusil\n",
      "- Musée-exposition Au pays du Roussard\n",
      "- Château féodal de Fréteval\n",
      "- Ecomusée troglodytique\n",
      "- Tour de Grisset, cella d'un temple gallo-romain\n",
      "- Château de Montmarin\n",
      "- Château de Droué\n"
     ]
    }
   ],
   "source": [
    "\"\"\"\n",
    "Pseudo-code pour question 1\n",
    "ouvrir le fichier\n",
    "le lire avec DictReader\n",
    "Pour chaque ligne du reader\n",
    "    si colonne \"site web\" est vide alors\n",
    "        ajouter colonne \"nom\" à sans_site\n",
    "\"\"\"\n",
    "\n",
    "sans_site = []\n",
    "\n",
    "with open(\"data/monuments-sites-musees-en-region-centre-val-de-loire.csv\") as input_file:\n",
    "    reader = csv.DictReader(input_file, delimiter=\";\", quotechar='\"')\n",
    "    for row in reader:\n",
    "        if row[\"Site web\"] == \"\":\n",
    "            sans_site.append(row[\"Nom\"])\n",
    "\n",
    "print(f\"Il y {len(sans_site)} entrées sans site web\")\n",
    "print(f\"Voici les 10 premières : \")\n",
    "for entree in sans_site[:10]:\n",
    "    print(f\"- {entree}\")"
   ]
  },
  {
   "cell_type": "markdown",
   "id": "307f5767",
   "metadata": {
    "slideshow": {
     "slide_type": "slide"
    }
   },
   "source": [
    "## ✍️ Exercice ✍️\n",
    "\n",
    "Travail sur https://data.centrevaldeloire.fr/explore/dataset/prenoms-depuis-1900-centre-val-de-loire/\n",
    "- Listez les 10 prénoms féminins et les 10 prénoms masculins les plus donnés dans la région en 2022\n",
    "- Pour 2022, listez les prénoms féminins donnés au moins 5 fois et qui se terminent par 'a' \n",
    "- Calculez la taille moyenne des prénoms par année\n",
    "- Écrire une fonction qui donne l’évolution d’un prénom x depuis 2000"
   ]
  }
 ],
 "metadata": {
  "celltoolbar": "Slideshow",
  "kernelspec": {
   "display_name": "Python 3 (ipykernel)",
   "language": "python",
   "name": "python3"
  },
  "language_info": {
   "codemirror_mode": {
    "name": "ipython",
    "version": 3
   },
   "file_extension": ".py",
   "mimetype": "text/x-python",
   "name": "python",
   "nbconvert_exporter": "python",
   "pygments_lexer": "ipython3",
   "version": "3.10.12"
  }
 },
 "nbformat": 4,
 "nbformat_minor": 5
}
