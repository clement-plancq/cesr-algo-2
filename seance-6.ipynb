{
 "cells": [
  {
   "cell_type": "markdown",
   "id": "3ee57cf9",
   "metadata": {
    "slideshow": {
     "slide_type": "slide"
    }
   },
   "source": [
    "# Algo 2 – Python\n",
    "\n",
    "## Cours 6 – Fonctions\n",
    "\n",
    "###  Master Humanités Numériques du CESR"
   ]
  },
  {
   "cell_type": "markdown",
   "id": "bd398b04",
   "metadata": {
    "slideshow": {
     "slide_type": "slide"
    }
   },
   "source": [
    "Exo sur les prénoms\n",
    "Écrire une fonction qui donne l’évolution d’un prénom x depuis 2000"
   ]
  },
  {
   "cell_type": "code",
   "execution_count": 22,
   "id": "fdbe7309",
   "metadata": {
    "slideshow": {
     "slide_type": "-"
    }
   },
   "outputs": [],
   "source": [
    "# Extraction des données\n",
    "\n",
    "import csv\n",
    "\n",
    "filename = \"data/prenoms-depuis-1900-centre-val-de-loire.csv\"\n",
    "\n",
    "data = []\n",
    "with open(filename, encoding=\"utf-8\") as input_file:\n",
    "    reader = csv.DictReader(input_file, delimiter=\";\")\n",
    "    for line in reader:\n",
    "        data.append(line)\n",
    "#print(len(data))"
   ]
  },
  {
   "cell_type": "code",
   "execution_count": null,
   "id": "9a87ac70",
   "metadata": {
    "slideshow": {
     "slide_type": "slide"
    }
   },
   "outputs": [],
   "source": [
    "res = {}\n",
    "for item in data:\n",
    "    if item[\"Prénom\"] == \"KILLIAN\" and int(item[\"Année de naissance\"]) >= 2000:\n",
    "        if item[\"Année de naissance\"] not in res:\n",
    "            res[item[\"Année de naissance\"]] = 0\n",
    "        res[item[\"Année de naissance\"]] += int(item[\"Nombre de naissances\"])\n",
    "print(res)"
   ]
  },
  {
   "cell_type": "markdown",
   "id": "0c24bcdb",
   "metadata": {
    "slideshow": {
     "slide_type": "subslide"
    }
   },
   "source": [
    "## Fonctions\n",
    "\n",
    "- Elles ont un nom, prennent des paramètres, font un traitement et renvoient une valeur\n",
    "\n",
    "- Il est très fortement recommandé de les documenter. En Python on utilise les *docstrings*"
   ]
  },
  {
   "cell_type": "code",
   "execution_count": null,
   "id": "355c16f3",
   "metadata": {
    "slideshow": {
     "slide_type": "-"
    }
   },
   "outputs": [],
   "source": [
    "def ma_fonction(param1, param2):\n",
    "    \"\"\"\n",
    "    La documentation de ma fonction\n",
    "    Sur plusieurs lignes si je veux\n",
    "    \"\"\"\n",
    "    return"
   ]
  },
  {
   "cell_type": "markdown",
   "id": "abc248c1",
   "metadata": {
    "slideshow": {
     "slide_type": "slide"
    }
   },
   "source": [
    "- Les docstrings sont accessibles dans la console avec help(ma_fonction) ou dans le script via l'attribut `__doc__`: `ma_fonction.__doc__`\n",
    "\n",
    "- Les générateurs de documentation comme [sphinx](http://www.sphinx-doc.org) utilisent les docstrings"
   ]
  },
  {
   "cell_type": "markdown",
   "id": "bbae7940",
   "metadata": {
    "slideshow": {
     "slide_type": "subslide"
    }
   },
   "source": [
    "### Fonctions : paramètres\n",
    "\n",
    "#### Paramètres positionnels"
   ]
  },
  {
   "cell_type": "code",
   "execution_count": null,
   "id": "871d9ab1",
   "metadata": {
    "slideshow": {
     "slide_type": "-"
    }
   },
   "outputs": [],
   "source": [
    "def retranche(param1, param2):\n",
    "    \"\"\"Une soustraction quoi\"\"\"\n",
    "    return param1 - param2"
   ]
  },
  {
   "cell_type": "code",
   "execution_count": null,
   "id": "53e8dae4",
   "metadata": {
    "slideshow": {
     "slide_type": "-"
    }
   },
   "outputs": [],
   "source": [
    "retranche(4, 2)"
   ]
  },
  {
   "cell_type": "code",
   "execution_count": null,
   "id": "89302f4e",
   "metadata": {
    "slideshow": {
     "slide_type": "-"
    }
   },
   "outputs": [],
   "source": [
    "retranche(2, 4)"
   ]
  },
  {
   "cell_type": "markdown",
   "id": "e4fedd9d",
   "metadata": {
    "slideshow": {
     "slide_type": "slide"
    }
   },
   "source": [
    "### Paramètres avec valeurs par défaut\n",
    "\n",
    "Ici `param1` est obligatoire, `param2` est facultatif"
   ]
  },
  {
   "cell_type": "code",
   "execution_count": null,
   "id": "46b82ca6",
   "metadata": {
    "slideshow": {
     "slide_type": "-"
    }
   },
   "outputs": [],
   "source": [
    "def retranche(param1, param2=1):\n",
    "    \"\"\"Une soustraction quoi\"\"\"\n",
    "    return param1 - param2"
   ]
  },
  {
   "cell_type": "code",
   "execution_count": null,
   "id": "d6d4f6a2",
   "metadata": {
    "slideshow": {
     "slide_type": "-"
    }
   },
   "outputs": [],
   "source": [
    "retranche(4, 1)"
   ]
  },
  {
   "cell_type": "code",
   "execution_count": null,
   "id": "22078461",
   "metadata": {
    "slideshow": {
     "slide_type": "-"
    }
   },
   "outputs": [],
   "source": [
    "retranche(4)"
   ]
  },
  {
   "cell_type": "markdown",
   "id": "834b2db4",
   "metadata": {
    "slideshow": {
     "slide_type": "slide"
    }
   },
   "source": [
    "✍️ Exercice ✍️\n",
    "\n",
    "1. Intégrer les quelques lignes de code du dessus dans une fonction `firstnameEvolution`\n",
    "2. Ajoutez un paramètre pour l’année de départ"
   ]
  },
  {
   "cell_type": "code",
   "execution_count": 42,
   "id": "ae32010f",
   "metadata": {
    "slideshow": {
     "slide_type": "slide"
    }
   },
   "outputs": [
    {
     "name": "stdout",
     "output_type": "stream",
     "text": [
      "{'2000': 218, '2001': 199, '2002': 178, '2003': 194, '2004': 172, '2005': 182, '2006': 168, '2007': 168, '2008': 155, '2009': 137, '2010': 75, '2011': 65, '2012': 79, '2013': 80, '2014': 82, '2015': 70, '2016': 61, '2017': 53, '2018': 35, '2019': 46, '2020': 34, '2021': 38, '2022': 31}\n"
     ]
    }
   ],
   "source": [
    "def firstnameEvolution(data, prenom, annee=2000):\n",
    "    \"\"\"\n",
    "    Mesure l’évolution d’un prénom par année\n",
    "    \"\"\"\n",
    "    res = {}\n",
    "    for item in data:\n",
    "        if item[\"Prénom\"] == prenom and int(item[\"Année de naissance\"]) >= annee:\n",
    "            if item[\"Année de naissance\"] not in res:\n",
    "                res[item[\"Année de naissance\"]] = 0\n",
    "            res[item[\"Année de naissance\"]] += int(item[\"Nombre de naissances\"])\n",
    "    return res\n",
    "\n",
    "evolution = firstnameEvolution(data, \"CLÉMENT\")\n",
    "# Tri par année croissante\n",
    "print(dict(sorted(evolution.items(), key=lambda x:x[0])))"
   ]
  },
  {
   "cell_type": "code",
   "execution_count": 43,
   "id": "e0b49c4c",
   "metadata": {
    "slideshow": {
     "slide_type": "slide"
    }
   },
   "outputs": [
    {
     "name": "stdout",
     "output_type": "stream",
     "text": [
      "Help on function firstnameEvolution in module __main__:\n",
      "\n",
      "firstnameEvolution(data, prenom, annee=2000)\n",
      "    Mesure l’évolution d’un prénom par année\n",
      "\n"
     ]
    }
   ],
   "source": [
    "help(firstnameEvolution)"
   ]
  },
  {
   "cell_type": "markdown",
   "id": "640fcb72",
   "metadata": {
    "slideshow": {
     "slide_type": "slide"
    }
   },
   "source": [
    "#### Fonctions : portée des variables\n",
    "\n",
    "Les variables déclarées dans le corps d'une fonction ont une portée locale à la fonction"
   ]
  },
  {
   "cell_type": "code",
   "execution_count": null,
   "id": "6e13b198",
   "metadata": {
    "slideshow": {
     "slide_type": "-"
    }
   },
   "outputs": [],
   "source": [
    "def foo():\n",
    "    a = 2713\n",
    "    print(a)\n",
    "    \n",
    "foo()\n",
    "print(a)"
   ]
  },
  {
   "cell_type": "markdown",
   "id": "b4024a13",
   "metadata": {
    "slideshow": {
     "slide_type": "slide"
    }
   },
   "source": [
    "Les variables globales (c-à-d dans le *top level*) sont accessibles en lecture dans une fonction"
   ]
  },
  {
   "cell_type": "code",
   "execution_count": null,
   "id": "9ed8c7da",
   "metadata": {
    "slideshow": {
     "slide_type": "-"
    }
   },
   "outputs": [],
   "source": [
    "a = 2713\n",
    "\n",
    "def foo():\n",
    "    print(a)\n",
    "\n",
    "foo()\n",
    "a = 2\n",
    "foo()"
   ]
  },
  {
   "cell_type": "markdown",
   "id": "3cce75b9",
   "metadata": {
    "slideshow": {
     "slide_type": "slide"
    }
   },
   "source": [
    "En revanche, les redéfinitions dans une fonction ne touchent pas la variable globale"
   ]
  },
  {
   "cell_type": "code",
   "execution_count": null,
   "id": "5f43a675",
   "metadata": {
    "slideshow": {
     "slide_type": "-"
    }
   },
   "outputs": [],
   "source": [
    "a = 2713\n",
    "\n",
    "def foo():\n",
    "    a = 2\n",
    "    print(f'Dans foo: a={a}')\n",
    "\n",
    "print(f'Dans toplevel: a={a}')\n",
    "foo()\n",
    "print(f'Dans toplevel: a={a}')"
   ]
  },
  {
   "cell_type": "markdown",
   "id": "9868a78e",
   "metadata": {
    "slideshow": {
     "slide_type": "slide"
    }
   },
   "source": [
    "✍️ Exercice ✍️\n",
    "\n",
    "Écrivez une fonction `calculePanier` qui renvoie le prix d’un panier à partir des infos ci-dessous ⬇️"
   ]
  },
  {
   "cell_type": "code",
   "execution_count": 15,
   "id": "6f643067",
   "metadata": {
    "slideshow": {
     "slide_type": "-"
    }
   },
   "outputs": [],
   "source": [
    "prix = {\n",
    "    \"bananes\": 3.0,\n",
    "    \"pommes\": 1.5,\n",
    "    \"poires\": 2.0\n",
    "}\n",
    "\n",
    "# on peut modéliser un peu en décrivant le panier d’un client comme un dictionnaire\n",
    "panier_freddy = {\"bananes\": 2.0, \"pommes\": 2.0}\n",
    "panier_david = {\"bananes\": 1.0, \"pommes\": 2.0, \"poires\": 2.0}"
   ]
  },
  {
   "cell_type": "code",
   "execution_count": 44,
   "id": "637befe9",
   "metadata": {
    "slideshow": {
     "slide_type": "slide"
    }
   },
   "outputs": [],
   "source": [
    "def calculePanier(tarifs, panier):\n",
    "    \"\"\"\n",
    "    calcule et renvoie le prix d’un panier\n",
    "    d’après les tarifs passés en arguments\n",
    "    \"\"\"\n",
    "    total = 0\n",
    "    for item in panier:\n",
    "        if item in tarifs:\n",
    "            total += tarifs[item] * panier[item]\n",
    "    return total"
   ]
  },
  {
   "cell_type": "markdown",
   "id": "04c478f6",
   "metadata": {
    "slideshow": {
     "slide_type": "slide"
    }
   },
   "source": [
    "## Squelette d’un script Python\n",
    "\n",
    "Pas forcément le seul squelette mais celui que je vous demande d’utiliser"
   ]
  },
  {
   "cell_type": "code",
   "execution_count": null,
   "id": "a359229b",
   "metadata": {
    "slideshow": {
     "slide_type": "slide"
    }
   },
   "outputs": [],
   "source": [
    "\"\"\"\n",
    "Ce que fait le script\n",
    "Votre nom\n",
    "La date\n",
    "\"\"\"\n",
    "\n",
    "# Les imports\n",
    "import json\n",
    "\n",
    "# Vos fonctions éventuelles\n",
    "#def my_fun(arg1):\n",
    "#    return \"\"\n",
    "\n",
    "# Votre code, dans la fonction 'main'\n",
    "def main():\n",
    "    return \"\"\n",
    "\n",
    "if __name__ == '__main__':\n",
    "    main()"
   ]
  },
  {
   "cell_type": "markdown",
   "id": "37b8dd9f",
   "metadata": {},
   "source": [
    "`if __name__ == '__main__':` cette condition sera évaluée vraie si le script est appelé en ligne de commande (ou via votre éditeur). Dans ce cas la fonction `main` sera exécutée.\n",
    "\n",
    "L’autre cas de figure est un import de module. Dans ce cas `main` n’est pas appelée et les fonctions de votre fichier pourront être appelées dans un script tiers."
   ]
  }
 ],
 "metadata": {
  "celltoolbar": "Slideshow",
  "kernelspec": {
   "display_name": "Python 3 (ipykernel)",
   "language": "python",
   "name": "python3"
  },
  "language_info": {
   "codemirror_mode": {
    "name": "ipython",
    "version": 3
   },
   "file_extension": ".py",
   "mimetype": "text/x-python",
   "name": "python",
   "nbconvert_exporter": "python",
   "pygments_lexer": "ipython3",
   "version": "3.10.12"
  }
 },
 "nbformat": 4,
 "nbformat_minor": 5
}
