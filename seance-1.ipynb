{
 "cells": [
  {
   "cell_type": "markdown",
   "metadata": {
    "slideshow": {
     "slide_type": "slide"
    }
   },
   "source": [
    "# Algo 2 – Python\n",
    "\n",
    "## Cours 1 – rappels\n",
    "\n",
    "###  Master Humanités Numériques du CESR"
   ]
  },
  {
   "cell_type": "markdown",
   "metadata": {
    "slideshow": {
     "slide_type": "slide"
    }
   },
   "source": [
    "# Avant de commencer\n",
    "\n",
    "* Nous travaillerons avec Python3 (3.8 minimum)\n",
    "* Pour le travail avec la console vous utiliserez ``python3`` ou ``ipython``  \n",
    "<small>Tapez ``python3`` ou ``ipython`` dans un terminal pour accéder à la console</small>\n",
    "* Choisissez l'éditeur de texte que vous préférez (emacs, vi, atom, visual studio, sublime text, …)"
   ]
  },
  {
   "cell_type": "markdown",
   "metadata": {
    "slideshow": {
     "slide_type": "subslide"
    }
   },
   "source": [
    "# Avant de commencer (2)\n",
    "\n",
    "Pour exécuter vos scripts, deux options :  \n",
    "\n",
    "`> python3 mon_script.py`\n",
    "\n",
    "ou <small>(mais pourquoi faire compliqué ?)</small>\n",
    "\n",
    "`> chmod u+x`  \n",
    "`> ./mon_script.py` en ajoutant ce shebang en première ligne :  \n",
    "`#!/usr/bin/env python3`\n"
   ]
  },
  {
   "cell_type": "markdown",
   "metadata": {
    "slideshow": {
     "slide_type": "slide"
    }
   },
   "source": [
    "# Opérateurs mathématiques\n",
    "\n",
    "`+` addition  "
   ]
  },
  {
   "cell_type": "code",
   "execution_count": 2,
   "metadata": {
    "slideshow": {
     "slide_type": "-"
    }
   },
   "outputs": [
    {
     "data": {
      "text/plain": [
       "7"
      ]
     },
     "execution_count": 2,
     "metadata": {},
     "output_type": "execute_result"
    }
   ],
   "source": [
    "2 + 5"
   ]
  },
  {
   "cell_type": "markdown",
   "metadata": {
    "slideshow": {
     "slide_type": "-"
    }
   },
   "source": [
    "`-` soustraction"
   ]
  },
  {
   "cell_type": "code",
   "execution_count": 3,
   "metadata": {
    "slideshow": {
     "slide_type": "-"
    }
   },
   "outputs": [
    {
     "data": {
      "text/plain": [
       "1"
      ]
     },
     "execution_count": 3,
     "metadata": {},
     "output_type": "execute_result"
    }
   ],
   "source": [
    "3 - 2"
   ]
  },
  {
   "cell_type": "markdown",
   "metadata": {
    "slideshow": {
     "slide_type": "subslide"
    }
   },
   "source": [
    "`*` multiplication"
   ]
  },
  {
   "cell_type": "code",
   "execution_count": 4,
   "metadata": {
    "slideshow": {
     "slide_type": "-"
    }
   },
   "outputs": [
    {
     "data": {
      "text/plain": [
       "6"
      ]
     },
     "execution_count": 4,
     "metadata": {},
     "output_type": "execute_result"
    }
   ],
   "source": [
    "2 * 3"
   ]
  },
  {
   "cell_type": "markdown",
   "metadata": {
    "slideshow": {
     "slide_type": "-"
    }
   },
   "source": [
    "`/` division"
   ]
  },
  {
   "cell_type": "code",
   "execution_count": 5,
   "metadata": {
    "slideshow": {
     "slide_type": "-"
    }
   },
   "outputs": [
    {
     "data": {
      "text/plain": [
       "6.0"
      ]
     },
     "execution_count": 5,
     "metadata": {},
     "output_type": "execute_result"
    }
   ],
   "source": [
    "36 / 6"
   ]
  },
  {
   "cell_type": "markdown",
   "metadata": {
    "slideshow": {
     "slide_type": "-"
    }
   },
   "source": [
    "`%` modulo (reste de la division)"
   ]
  },
  {
   "cell_type": "code",
   "execution_count": 6,
   "metadata": {
    "slideshow": {
     "slide_type": "-"
    }
   },
   "outputs": [
    {
     "data": {
      "text/plain": [
       "4"
      ]
     },
     "execution_count": 6,
     "metadata": {},
     "output_type": "execute_result"
    }
   ],
   "source": [
    "36 % 8"
   ]
  },
  {
   "cell_type": "markdown",
   "metadata": {
    "slideshow": {
     "slide_type": "subslide"
    }
   },
   "source": [
    "`**` puissance"
   ]
  },
  {
   "cell_type": "code",
   "execution_count": 7,
   "metadata": {
    "scrolled": true,
    "slideshow": {
     "slide_type": "-"
    }
   },
   "outputs": [
    {
     "data": {
      "text/plain": [
       "400"
      ]
     },
     "execution_count": 7,
     "metadata": {},
     "output_type": "execute_result"
    }
   ],
   "source": [
    "10 ** 2 * 4"
   ]
  },
  {
   "cell_type": "markdown",
   "metadata": {
    "slideshow": {
     "slide_type": "-"
    }
   },
   "source": [
    "* L'ordre des opérations est l'ordre classique en mathématiques (puissance passe avant les opérations)."
   ]
  },
  {
   "cell_type": "markdown",
   "metadata": {
    "slideshow": {
     "slide_type": "-"
    }
   },
   "source": [
    "* vous pouvez utiliser des parenthèses pour définir des priorités."
   ]
  },
  {
   "cell_type": "code",
   "execution_count": 8,
   "metadata": {
    "slideshow": {
     "slide_type": "-"
    }
   },
   "outputs": [
    {
     "data": {
      "text/plain": [
       "6.0"
      ]
     },
     "execution_count": 8,
     "metadata": {},
     "output_type": "execute_result"
    }
   ],
   "source": [
    "36 / (2*3)"
   ]
  },
  {
   "cell_type": "markdown",
   "metadata": {
    "slideshow": {
     "slide_type": "slide"
    }
   },
   "source": [
    "✍️ Exos ✍️\n",
    "\n",
    "C’est les soldes ! \n",
    "\n",
    "Vous achetez un article à 63€ avec une réduction de 30%  \n",
    "Calculez le prix soldé de l’article  "
   ]
  },
  {
   "cell_type": "code",
   "execution_count": 12,
   "metadata": {
    "slideshow": {
     "slide_type": "-"
    }
   },
   "outputs": [
    {
     "name": "stdout",
     "output_type": "stream",
     "text": [
      "44.1\n"
     ]
    }
   ],
   "source": [
    "# Complétez la cellule\n",
    "\n",
    "article = 63\n",
    "reduction = 30 / 100\n",
    "#prix_solde = 63 * 0.7\n",
    "prix_solde = article - (article * reduction)\n",
    "print(prix_solde)"
   ]
  },
  {
   "cell_type": "markdown",
   "metadata": {
    "slideshow": {
     "slide_type": "slide"
    }
   },
   "source": [
    "# Les variables\n",
    "\n",
    "* L'affectation des variables se fait à l'aide du symbole `=`  \n",
    "* Si la variable est placée à droite du symbole `=`, sa *valeur* est affectée à la variable placée à gauche."
   ]
  },
  {
   "cell_type": "code",
   "execution_count": 13,
   "metadata": {
    "slideshow": {
     "slide_type": "-"
    }
   },
   "outputs": [
    {
     "name": "stdout",
     "output_type": "stream",
     "text": [
      "5\n",
      "5\n"
     ]
    }
   ],
   "source": [
    "var = 3 + 2\n",
    "print(var)\n",
    "\n",
    "another_var = var\n",
    "print(another_var)"
   ]
  },
  {
   "cell_type": "code",
   "execution_count": 14,
   "metadata": {
    "slideshow": {
     "slide_type": "-"
    }
   },
   "outputs": [
    {
     "data": {
      "text/plain": [
       "6"
      ]
     },
     "execution_count": 14,
     "metadata": {},
     "output_type": "execute_result"
    }
   ],
   "source": [
    "yet_another_var_2 = var + 1\n",
    "yet_another_var_2"
   ]
  },
  {
   "cell_type": "markdown",
   "metadata": {
    "slideshow": {
     "slide_type": "subslide"
    }
   },
   "source": [
    "* Les noms de variable sont composés de car. alphabétiques (min ou maj), des chiffres et de l'underscore. C'est tout.\n",
    "\n",
    "* Les noms de variable sont choisis par le programmeur, ils doivent être le plus clair possible.  \n",
    "En réalité il est conseillé de suivre la [PEP 8](https://www.python.org/dev/peps/pep-0008/).\n",
    "\n"
   ]
  },
  {
   "cell_type": "code",
   "execution_count": 15,
   "metadata": {
    "slideshow": {
     "slide_type": "-"
    }
   },
   "outputs": [
    {
     "ename": "SyntaxError",
     "evalue": "cannot assign to expression here. Maybe you meant '==' instead of '='? (4286053486.py, line 1)",
     "output_type": "error",
     "traceback": [
      "\u001b[0;36m  Input \u001b[0;32mIn [15]\u001b[0;36m\u001b[0m\n\u001b[0;31m    je-ne-suis-pas-une-variable = 2\u001b[0m\n\u001b[0m    ^\u001b[0m\n\u001b[0;31mSyntaxError\u001b[0m\u001b[0;31m:\u001b[0m cannot assign to expression here. Maybe you meant '==' instead of '='?\n"
     ]
    }
   ],
   "source": [
    "je-ne-suis-pas-une-variable = 2"
   ]
  },
  {
   "cell_type": "code",
   "execution_count": 16,
   "metadata": {},
   "outputs": [
    {
     "ename": "SyntaxError",
     "evalue": "invalid decimal literal (1637364031.py, line 1)",
     "output_type": "error",
     "traceback": [
      "\u001b[0;36m  Input \u001b[0;32mIn [16]\u001b[0;36m\u001b[0m\n\u001b[0;31m    3_moi_non_plus = 2 + 3\u001b[0m\n\u001b[0m     ^\u001b[0m\n\u001b[0;31mSyntaxError\u001b[0m\u001b[0;31m:\u001b[0m invalid decimal literal\n"
     ]
    }
   ],
   "source": [
    "3_moi_non_plus = 2 + 3"
   ]
  },
  {
   "cell_type": "markdown",
   "metadata": {
    "slideshow": {
     "slide_type": "subslide"
    }
   },
   "source": [
    "* Seuls les mots réservés sont interdits."
   ]
  },
  {
   "cell_type": "code",
   "execution_count": 17,
   "metadata": {
    "slideshow": {
     "slide_type": "-"
    }
   },
   "outputs": [
    {
     "name": "stdout",
     "output_type": "stream",
     "text": [
      "['False', 'None', 'True', 'and', 'as', 'assert', 'async', 'await', 'break', 'class', 'continue', 'def', 'del', 'elif', 'else', 'except', 'finally', 'for', 'from', 'global', 'if', 'import', 'in', 'is', 'lambda', 'nonlocal', 'not', 'or', 'pass', 'raise', 'return', 'try', 'while', 'with', 'yield']\n"
     ]
    }
   ],
   "source": [
    "import keyword\n",
    "print(keyword.kwlist)"
   ]
  },
  {
   "cell_type": "markdown",
   "metadata": {
    "slideshow": {
     "slide_type": "slide"
    }
   },
   "source": [
    "# Help !\n",
    "## PEP, quesaco ?\n",
    "\n",
    "PEP : Python Enhancement Proposals\n",
    "\n",
    "Python est sous licence libre. Le langage a été créé par Guido Van Rossum mais depuis 2001 le développement de Python est géré par la [Python Software Foundation](http://www.python.org/psf/) (dont Guido était le *\"benevolent dictator for life\"* jusqu'en juillet 2018).\n",
    "\n",
    "Les évolutions du langage sont détaillées dans ces PEP (proposées, examinées, corrigées, acceptées puis implémentées)."
   ]
  },
  {
   "cell_type": "markdown",
   "metadata": {
    "slideshow": {
     "slide_type": "subslide"
    }
   },
   "source": [
    "Les PEP les plus célèbres sont\n",
    "* [PEP 20](https://www.python.org/dev/peps/pep-0020/) \"Zen of Python\" (tapez `import this` dans une console)\n",
    "* [PEP 8](https://www.python.org/dev/peps/pep-0008/) \"Style Guide for Python Code\"\n"
   ]
  },
  {
   "cell_type": "markdown",
   "metadata": {
    "slideshow": {
     "slide_type": "slide"
    }
   },
   "source": [
    "# Les types\n",
    "\n",
    "* Python est un langage à typage *dynamique* fort : le type d'une variable est déterminé par l'interpréteur.\n",
    "* Python est un langage à typage dynamique *fort* : pas de conversion implicite, certaines actions sont interdites."
   ]
  },
  {
   "cell_type": "code",
   "execution_count": 23,
   "metadata": {
    "slideshow": {
     "slide_type": "-"
    }
   },
   "outputs": [
    {
     "ename": "TypeError",
     "evalue": "can only concatenate str (not \"int\") to str",
     "output_type": "error",
     "traceback": [
      "\u001b[0;31m---------------------------------------------------------------------------\u001b[0m",
      "\u001b[0;31mTypeError\u001b[0m                                 Traceback (most recent call last)",
      "Input \u001b[0;32mIn [23]\u001b[0m, in \u001b[0;36m<cell line: 1>\u001b[0;34m()\u001b[0m\n\u001b[0;32m----> 1\u001b[0m \u001b[38;5;124;43m\"\u001b[39;49m\u001b[38;5;124;43mHello\u001b[39;49m\u001b[38;5;124;43m\"\u001b[39;49m\u001b[43m \u001b[49m\u001b[38;5;241;43m+\u001b[39;49m\u001b[43m \u001b[49m\u001b[38;5;241;43m1\u001b[39;49m\n",
      "\u001b[0;31mTypeError\u001b[0m: can only concatenate str (not \"int\") to str"
     ]
    }
   ],
   "source": [
    "\"Hello\" + 1"
   ]
  },
  {
   "cell_type": "markdown",
   "metadata": {
    "slideshow": {
     "slide_type": "subslide"
    }
   },
   "source": [
    "* La fonction `type()` retourne le type de la variable donnée en argument."
   ]
  },
  {
   "cell_type": "code",
   "execution_count": 24,
   "metadata": {
    "slideshow": {
     "slide_type": "-"
    }
   },
   "outputs": [
    {
     "name": "stdout",
     "output_type": "stream",
     "text": [
      "<class 'str'>\n",
      "<class 'int'>\n",
      "<class 'float'>\n",
      "<class 'NoneType'>\n",
      "<class 'bool'>\n",
      "<class 'list'>\n"
     ]
    }
   ],
   "source": [
    "print(type(\"Hello\"))\n",
    "print(type(4))\n",
    "print(type(4.3))\n",
    "print(type(None))\n",
    "print(type(True))\n",
    "print(type([1, 2, 3]))\n"
   ]
  },
  {
   "cell_type": "markdown",
   "metadata": {
    "slideshow": {
     "slide_type": "subslide"
    }
   },
   "source": [
    "* `str()`, `int()`, `float()` convertit l'argument dans le type désiré.\n",
    "* `bool()` retourne `True` si l'argument est vrai, `False` sinon."
   ]
  },
  {
   "cell_type": "code",
   "execution_count": 25,
   "metadata": {
    "slideshow": {
     "slide_type": "-"
    }
   },
   "outputs": [
    {
     "data": {
      "text/plain": [
       "3"
      ]
     },
     "execution_count": 25,
     "metadata": {},
     "output_type": "execute_result"
    }
   ],
   "source": [
    "int(3.14159265359)"
   ]
  },
  {
   "cell_type": "code",
   "execution_count": 28,
   "metadata": {
    "slideshow": {
     "slide_type": "-"
    }
   },
   "outputs": [
    {
     "data": {
      "text/plain": [
       "'Hello1'"
      ]
     },
     "execution_count": 28,
     "metadata": {},
     "output_type": "execute_result"
    }
   ],
   "source": [
    "\"Hello\" + str(1)"
   ]
  },
  {
   "cell_type": "markdown",
   "metadata": {
    "slideshow": {
     "slide_type": "slide"
    }
   },
   "source": [
    "# Help !\n",
    "\n",
    "Nous venons d'utiliser 4 fonctions.\n",
    "\n",
    "Avant d'utiliser une fonction il est indispensable de savoir : ce que fait la fonction, quels sont les paramètres attendus, quelle est la valeur de retour.\n",
    "\n",
    "Pour accéder à la documentation d'une fonction :\n",
    "* dans la console : `help(int)` <small>(d'une fonction ou d'une classe ou d'un module)</small>  \n",
    "<small>`q` pour sortir de la doc</small>\n",
    "* dans un notebook ou dans ipython : faire suivre le nom de la fonction de '?'\n",
    "* sur le web : [https://docs.python.org/3/library/functions.html](https://docs.python.org/3/library/functions.html)\n",
    "* ou bien : [DevDocs](http://devdocs.io/)"
   ]
  },
  {
   "cell_type": "markdown",
   "metadata": {
    "slideshow": {
     "slide_type": "slide"
    }
   },
   "source": [
    "# Les chaînes de caractères\n",
    "\n",
    "* `+` est aussi l'opérateur de concaténation de chaînes de caractères "
   ]
  },
  {
   "cell_type": "code",
   "execution_count": 29,
   "metadata": {
    "slideshow": {
     "slide_type": "-"
    }
   },
   "outputs": [
    {
     "data": {
      "text/plain": [
       "'Helloworld'"
      ]
     },
     "execution_count": 29,
     "metadata": {},
     "output_type": "execute_result"
    }
   ],
   "source": [
    "\"Hello\" + \"world\""
   ]
  },
  {
   "cell_type": "code",
   "execution_count": 30,
   "metadata": {
    "slideshow": {
     "slide_type": "-"
    }
   },
   "outputs": [
    {
     "data": {
      "text/plain": [
       "'Hello world'"
      ]
     },
     "execution_count": 30,
     "metadata": {},
     "output_type": "execute_result"
    }
   ],
   "source": [
    "\"Hello\" + \" \" + \"world\""
   ]
  },
  {
   "cell_type": "markdown",
   "metadata": {
    "slideshow": {
     "slide_type": "subslide"
    }
   },
   "source": [
    "* Les chaînes de caractères sont entourées soit de quotes simples `'`, soit de guillemets `\"`\n",
    "* Si votre mot contient une apostrophe, entourez-le de guillemets `\"` ou déspécialisez l’apostrophe avec `\\'`"
   ]
  },
  {
   "cell_type": "code",
   "execution_count": 32,
   "metadata": {
    "slideshow": {
     "slide_type": "-"
    }
   },
   "outputs": [
    {
     "data": {
      "text/plain": [
       "'Ça donne une erreur t’as vu'"
      ]
     },
     "execution_count": 32,
     "metadata": {},
     "output_type": "execute_result"
    }
   ],
   "source": [
    "'Ça donne une erreur t'as vu'"
   ]
  },
  {
   "cell_type": "code",
   "execution_count": 33,
   "metadata": {
    "slideshow": {
     "slide_type": "-"
    }
   },
   "outputs": [
    {
     "data": {
      "text/plain": [
       "\"Ça donne une erreur t'as vu\""
      ]
     },
     "execution_count": 33,
     "metadata": {},
     "output_type": "execute_result"
    }
   ],
   "source": [
    "\"Ça donne une erreur t'as vu\""
   ]
  },
  {
   "cell_type": "code",
   "execution_count": 34,
   "metadata": {},
   "outputs": [
    {
     "data": {
      "text/plain": [
       "\"Ça donne une erreur t'as vu\""
      ]
     },
     "execution_count": 34,
     "metadata": {},
     "output_type": "execute_result"
    }
   ],
   "source": [
    "'Ça donne une erreur t\\'as vu' "
   ]
  },
  {
   "cell_type": "markdown",
   "metadata": {
    "slideshow": {
     "slide_type": "subslide"
    }
   },
   "source": [
    "Les chaînes sont des [*sequences*](https://docs.python.org/3/library/stdtypes.html#sequence-types-list-tuple-range), on peut leur appliquer les opérations suivantes propres à la catégorie d'objets *sequence* :"
   ]
  },
  {
   "cell_type": "markdown",
   "metadata": {
    "slideshow": {
     "slide_type": "-"
    }
   },
   "source": [
    "- longueur, minimum, maximum"
   ]
  },
  {
   "cell_type": "code",
   "execution_count": 35,
   "metadata": {
    "slideshow": {
     "slide_type": "-"
    }
   },
   "outputs": [
    {
     "name": "stdout",
     "output_type": "stream",
     "text": [
      "7\n",
      "u\n"
     ]
    }
   ],
   "source": [
    "var = \"bonjour\"\n",
    "\n",
    "# longueur, minimum, maximum\n",
    "print(len(var))\n",
    "print(max(var))"
   ]
  },
  {
   "cell_type": "markdown",
   "metadata": {
    "slideshow": {
     "slide_type": "-"
    }
   },
   "source": [
    "- *indexing*"
   ]
  },
  {
   "cell_type": "code",
   "execution_count": 36,
   "metadata": {
    "slideshow": {
     "slide_type": "-"
    }
   },
   "outputs": [
    {
     "name": "stdout",
     "output_type": "stream",
     "text": [
      "n\n",
      "r\n"
     ]
    }
   ],
   "source": [
    "# indexing\n",
    "var = \"bonjour\"\n",
    "print(var[2])\n",
    "print(var[-1])"
   ]
  },
  {
   "cell_type": "markdown",
   "metadata": {
    "slideshow": {
     "slide_type": "subslide"
    }
   },
   "source": [
    "- *slicing*\n",
    "\n",
    "sequence[i:j] : de l’indice i à j (j exclus)  \n",
    "sequence[i:j:k] : de l’indice i à j (j exclus) avec un pas de k"
   ]
  },
  {
   "cell_type": "code",
   "execution_count": 47,
   "metadata": {
    "slideshow": {
     "slide_type": "-"
    }
   },
   "outputs": [
    {
     "name": "stdout",
     "output_type": "stream",
     "text": [
      "ruojnob\n"
     ]
    }
   ],
   "source": [
    "# slicing\n",
    "#print(var[0:3]) # 3 premiers éléments\n",
    "#print(var[-3:]) # 3 %derniers éléments\n",
    "#print(var[0:6:2])\n",
    "print(var[::-1]) # la chaîne lue à l’envers"
   ]
  },
  {
   "cell_type": "markdown",
   "metadata": {
    "slideshow": {
     "slide_type": "subslide"
    }
   },
   "source": [
    "- *membership*"
   ]
  },
  {
   "cell_type": "code",
   "execution_count": 48,
   "metadata": {},
   "outputs": [
    {
     "name": "stdout",
     "output_type": "stream",
     "text": [
      "Il y a un u dans bonjour\n"
     ]
    }
   ],
   "source": [
    "if 'u' in var:\n",
    "    print(f\"Il y a un u dans {var}\")\n"
   ]
  },
  {
   "cell_type": "markdown",
   "metadata": {
    "slideshow": {
     "slide_type": "subslide"
    }
   },
   "source": [
    "Les chaînes ont aussi des fonctions qui leur sont propres\n",
    "\n",
    "Voir la liste complète dans la doc python\n",
    "\n",
    "`var.lower()` transforme la chaine en minuscules  \n",
    "`var.upper()` transforme la chaine en majuscules  \n",
    "`var.replace(old, new)` remplace les occurrences de `old` par `new`  \n",
    "`var.strip(chars=None)` appelé sans arguments supprime le ou les espaces en tête et en fin de chaîne  \n",
    "`var.rstrip(chars=None)` fait la même chose en fin de chaîne uniquement  \n",
    "`var.lstrip(chars=None)` idem en début de chaîne  \n",
    "`var.split(sep=None)` découpe une chaîne en fonction de `sep` et renvoie une liste. Si `sep` n'est pas donné, coupe sur tous les caractères d'espace  \n",
    "`join(iterable)` est l'inverse de `split`, il permet de joindre les éléments d'un *iterable* pour former une seule chaîne de caractères  \n",
    "[`format()`](https://docs.python.org/3.5/library/string.html#formatstrings) depuis python3 (et python2.7) pour effectuer l'[interpolation de chaîne](https://en.wikipedia.org/wiki/String_interpolation)  "
   ]
  },
  {
   "cell_type": "code",
   "execution_count": 58,
   "metadata": {
    "slideshow": {
     "slide_type": "subslide"
    }
   },
   "outputs": [
    {
     "name": "stdout",
     "output_type": "stream",
     "text": [
      "['bonjour', 'ça', 'va', '?']\n",
      "<class 'list'>\n"
     ]
    },
    {
     "data": {
      "text/plain": [
       "'bonjour-ça-va-?'"
      ]
     },
     "execution_count": 58,
     "metadata": {},
     "output_type": "execute_result"
    }
   ],
   "source": [
    "chaine = \"bonjour ça va ?\"\n",
    "words = chaine.split(' ')\n",
    "print(words)\n",
    "print(type(words))\n",
    "\"-\".join(words)"
   ]
  },
  {
   "cell_type": "markdown",
   "metadata": {
    "slideshow": {
     "slide_type": "subslide"
    }
   },
   "source": [
    "## Formatage de chaînes\n",
    "\n",
    "« There should be one-- and preferably only one --obvious way to do it. » _Zen of Python_  \n",
    "Sauf que : \n",
    "* concaténation avec `+`\n",
    "* interpolation avec `format()`\n",
    "* [f-string](https://docs.python.org/3.6/reference/lexical_analysis.html#f-strings) depuis python3.6\n",
    "\n",
    "On utilisera plutôt les f-string"
   ]
  },
  {
   "cell_type": "code",
   "execution_count": 59,
   "metadata": {
    "slideshow": {
     "slide_type": "subslide"
    }
   },
   "outputs": [
    {
     "name": "stdout",
     "output_type": "stream",
     "text": [
      "Tiens salut Clément. T'aurais pas 1.2 euros pour 2 cafés ?\n",
      "Tiens salut Clément. T'aurais pas 1.2 euros pour 2 cafés ?\n",
      "Tiens salut Clément. T'aurais pas 1.2 euros pour 2 cafés ?\n"
     ]
    }
   ],
   "source": [
    "name = \"Clément\"\n",
    "coffee_price = 0.6\n",
    "\n",
    "print(\"Tiens salut \" + name + \". T'aurais pas \" + str(coffee_price*2) + \" euros pour 2 cafés ?\")\n",
    "\n",
    "print(\"Tiens salut {}. T'aurais pas {} euros pour 2 cafés ?\".format(name, coffee_price*2))\n",
    "\n",
    "print(f\"Tiens salut {name}. T'aurais pas {coffee_price*2} euros pour 2 cafés ?\")"
   ]
  },
  {
   "cell_type": "markdown",
   "metadata": {
    "slideshow": {
     "slide_type": "subslide"
    }
   },
   "source": [
    "⚠️ Un objet de type `str` (string, chaîne de car. quoi) est *immutable*, on ne peut pas modifier sa valeur."
   ]
  },
  {
   "cell_type": "code",
   "execution_count": 63,
   "metadata": {},
   "outputs": [
    {
     "ename": "TypeError",
     "evalue": "'str' object does not support item assignment",
     "output_type": "error",
     "traceback": [
      "\u001b[0;31m---------------------------------------------------------------------------\u001b[0m",
      "\u001b[0;31mTypeError\u001b[0m                                 Traceback (most recent call last)",
      "Input \u001b[0;32mIn [63]\u001b[0m, in \u001b[0;36m<cell line: 2>\u001b[0;34m()\u001b[0m\n\u001b[1;32m      1\u001b[0m chaine \u001b[38;5;241m=\u001b[39m \u001b[38;5;124m\"\u001b[39m\u001b[38;5;124mpithon\u001b[39m\u001b[38;5;124m\"\u001b[39m\n\u001b[0;32m----> 2\u001b[0m chaine[\u001b[38;5;241m1\u001b[39m] \u001b[38;5;241m=\u001b[39m \u001b[38;5;124m'\u001b[39m\u001b[38;5;124my\u001b[39m\u001b[38;5;124m'\u001b[39m\n",
      "\u001b[0;31mTypeError\u001b[0m: 'str' object does not support item assignment"
     ]
    }
   ],
   "source": [
    "chaine = \"pithon\"\n",
    "chaine[1] = 'y'"
   ]
  },
  {
   "cell_type": "markdown",
   "metadata": {
    "slideshow": {
     "slide_type": "slide"
    }
   },
   "source": [
    "# Les structures conditionnelles\n",
    "\n",
    "```python\n",
    "if condition:\n",
    "    #begin of block\n",
    "    instruction1\n",
    "    instruction2\n",
    "    #end of block\n",
    "\n",
    "```\n"
   ]
  },
  {
   "cell_type": "markdown",
   "metadata": {
    "slideshow": {
     "slide_type": "subslide"
    }
   },
   "source": [
    "### Opérateurs de comparaison\n",
    "`<`  inférieur  / `<=` inférieur ou égal  \n",
    "`>`  supérieur  / `>=` supérieur ou égal  \n",
    "`==` égal  / `!=` non égal  \n",
    "`is` identité (pour les objets surtout)  / `is not` non identité  "
   ]
  },
  {
   "cell_type": "code",
   "execution_count": 64,
   "metadata": {
    "slideshow": {
     "slide_type": "-"
    }
   },
   "outputs": [
    {
     "name": "stdout",
     "output_type": "stream",
     "text": [
      "x a grandi\n"
     ]
    }
   ],
   "source": [
    "x = 4\n",
    "if x > 3:\n",
    "    print(\"x a grandi\")"
   ]
  },
  {
   "cell_type": "code",
   "execution_count": 65,
   "metadata": {
    "slideshow": {
     "slide_type": "-"
    }
   },
   "outputs": [
    {
     "name": "stdout",
     "output_type": "stream",
     "text": [
      "x a grandi\n"
     ]
    }
   ],
   "source": [
    "if x > 3:\n",
    "    print(\"x a grandi\")\n",
    "else:\n",
    "    print(\"x n'a pas grandi\")"
   ]
  },
  {
   "cell_type": "markdown",
   "metadata": {
    "slideshow": {
     "slide_type": "subslide"
    }
   },
   "source": [
    "### Opérateurs booléens\n",
    "``not`` négation  \n",
    "``and`` conjonction (True si les deux opérandes sont vraies, False sinon)  \n",
    "``or``  disjonction (True si une des deux opérandes est vraie)  "
   ]
  },
  {
   "cell_type": "code",
   "execution_count": 66,
   "metadata": {
    "slideshow": {
     "slide_type": "-"
    }
   },
   "outputs": [
    {
     "name": "stdout",
     "output_type": "stream",
     "text": [
      "x a grandi, un peu\n"
     ]
    }
   ],
   "source": [
    "if x > 3 and x <= 5:\n",
    "    print(\"x a grandi, un peu\")\t   \n",
    "elif x > 5:\n",
    "    print(\"x a grandi\")\n",
    "else:\n",
    "    print(\"x n'a pas grandi\")"
   ]
  },
  {
   "cell_type": "markdown",
   "metadata": {
    "slideshow": {
     "slide_type": "subslide"
    }
   },
   "source": [
    "## Opérateurs booléens\n",
    "### ✍️ Exos ✍️\n",
    "\n",
    "* Écrire un script qui détermine si un nombre donné est pair ou impair\n",
    "* Chifoumi version 1"
   ]
  },
  {
   "cell_type": "code",
   "execution_count": 75,
   "metadata": {},
   "outputs": [
    {
     "name": "stdout",
     "output_type": "stream",
     "text": [
      "donnez-moi un nombre, n’importe lequel78\n",
      "Le nombre est pair\n"
     ]
    }
   ],
   "source": [
    "nb = input(\"donnez-moi un nombre, n’importe lequel\")\n",
    "\n",
    "# Dîtes s’il s’agit d’un nombre pair ou impair\n",
    "\n",
    "if int(nb) % 2 == 0:\n",
    "    print(\"Le nombre est pair\")\n",
    "else:\n",
    "    print(\"Le nombre est impair\")"
   ]
  },
  {
   "cell_type": "code",
   "execution_count": 8,
   "metadata": {},
   "outputs": [
    {
     "name": "stdout",
     "output_type": "stream",
     "text": [
      "pierre (🪨) feuille (📃) ou ciseaux (✂️) ?ciseaux\n",
      "Sarah a joué : ciseaux\n",
      "Skynet a joué : feuille\n",
      "Sarah gagne\n"
     ]
    }
   ],
   "source": [
    "import random \n",
    " \n",
    "sarah = input(\"pierre (🪨) feuille (📃) ou ciseaux (✂️) ?\")\n",
    "coups = [\"pierre\", \"feuille\", \"ciseaux\"]\n",
    "skynet = random.choice(coups)\n",
    "\n",
    "print(f\"Sarah a joué : {sarah}\")\n",
    "print(f\"Skynet a joué : {skynet}\")\n",
    "\n",
    "# Donnez le nom du gagnant\n",
    "if sarah == skynet:\n",
    "    print(\"Égalité\")\n",
    "elif (sarah == \"pierre\" and skynet == \"ciseaux\") or (sarah == \"ciseaux\" and skynet == \"feuille\") or (sarah == \"feuille\" and skynet == \"pierre\"):\n",
    "    print(\"Sarah gagne\")\n",
    "else:\n",
    "    print(\"Skynet gagne\")"
   ]
  },
  {
   "cell_type": "markdown",
   "metadata": {
    "slideshow": {
     "slide_type": "slide"
    }
   },
   "source": [
    "# Les boucles\n",
    "\n",
    "\n",
    "* Les boucles `while` nécessitent que la valeur utilisée dans la condition d'arrêt soit modifiée dans le corps de la boucle.\n",
    "* Les boucles `for` s'appliquent sur les *séquences* (`list`, `str`, `tuple`) et plus généralement sur les *iterables* [voir doc](https://docs.python.org/3/glossary.html#term-iterable)\n",
    "* Les *iterables* sont des objets issus de classes qui implémentent la méthode `__iter__()` et/ou `__getitem__()`\n",
    "* L'instruction `continue` permet de passer à l'itération suivante\n",
    "* L'instruction `break` permet de quitter la boucle en cours"
   ]
  },
  {
   "cell_type": "code",
   "execution_count": 90,
   "metadata": {
    "slideshow": {
     "slide_type": "subslide"
    }
   },
   "outputs": [
    {
     "name": "stdout",
     "output_type": "stream",
     "text": [
      "1\n",
      "2\n",
      "3\n",
      "4\n"
     ]
    }
   ],
   "source": [
    "i = 1\n",
    "while i < 5:\n",
    "    print(i)\n",
    "    i = i + 1"
   ]
  },
  {
   "cell_type": "code",
   "execution_count": 91,
   "metadata": {
    "slideshow": {
     "slide_type": "subslide"
    }
   },
   "outputs": [
    {
     "name": "stdout",
     "output_type": "stream",
     "text": [
      "a\n",
      "e\n",
      "i\n",
      "o\n",
      "u\n"
     ]
    }
   ],
   "source": [
    "voyelles = \"aeiou\"\n",
    "for item in voyelles:\n",
    "    print(item)"
   ]
  },
  {
   "cell_type": "code",
   "execution_count": 92,
   "metadata": {
    "slideshow": {
     "slide_type": "-"
    }
   },
   "outputs": [
    {
     "name": "stdout",
     "output_type": "stream",
     "text": [
      "a\n",
      "e\n",
      "i\n",
      "o\n",
      "u\n"
     ]
    }
   ],
   "source": [
    "voyelles = ['a', 'e', 'i', 'o', 'u']\n",
    "for item in voyelles:\n",
    "    print(item)"
   ]
  },
  {
   "cell_type": "markdown",
   "metadata": {
    "slideshow": {
     "slide_type": "slide"
    }
   },
   "source": [
    "# Les fonctions\n",
    "### Vite fait, on y reviendra\n",
    "\n",
    "```python\n",
    "def ma_fonction(arg1, arg2):\n",
    "    \"\"\" description de la fonction \"\"\"\n",
    "    instruction1\n",
    "    instruction2\n",
    "    return(resultat)\n",
    "```\n",
    "* L'ordre des arguments est déterminant\n",
    "* Il est possible d'outrepasser l'ordre en nommant les arguments lors de l'appel de fonction    \n"
   ]
  },
  {
   "cell_type": "code",
   "execution_count": 93,
   "metadata": {
    "slideshow": {
     "slide_type": "subslide"
    }
   },
   "outputs": [],
   "source": [
    "def soustraction(arg1, arg2):\n",
    "    res = arg1 - arg2\n",
    "    return res"
   ]
  },
  {
   "cell_type": "code",
   "execution_count": 94,
   "metadata": {
    "slideshow": {
     "slide_type": "-"
    }
   },
   "outputs": [
    {
     "data": {
      "text/plain": [
       "2"
      ]
     },
     "execution_count": 94,
     "metadata": {},
     "output_type": "execute_result"
    }
   ],
   "source": [
    "diff = soustraction(5, 3)    \n",
    "diff"
   ]
  },
  {
   "cell_type": "code",
   "execution_count": 95,
   "metadata": {
    "slideshow": {
     "slide_type": "-"
    }
   },
   "outputs": [
    {
     "data": {
      "text/plain": [
       "-2"
      ]
     },
     "execution_count": 95,
     "metadata": {},
     "output_type": "execute_result"
    }
   ],
   "source": [
    "diff = soustraction(3, 5)    \n",
    "diff"
   ]
  },
  {
   "cell_type": "code",
   "execution_count": 96,
   "metadata": {
    "slideshow": {
     "slide_type": "-"
    }
   },
   "outputs": [
    {
     "data": {
      "text/plain": [
       "-2"
      ]
     },
     "execution_count": 96,
     "metadata": {},
     "output_type": "execute_result"
    }
   ],
   "source": [
    "diff = soustraction(arg2=5, arg1=3)    \n",
    "diff"
   ]
  },
  {
   "cell_type": "markdown",
   "metadata": {
    "slideshow": {
     "slide_type": "slide"
    }
   },
   "source": [
    "## ✍️ Exos ✍️\n",
    "\n",
    "1. Écrire une fonction `even` qui reçoit un nombre, renvoie True si le nombre est pair,  False sinon\n",
    "2. Écrire une fonction `is_palindrome` qui reçoit une chaîne de caractères, renvoie True si cette chaîne est un palindrome, faux sinon"
   ]
  },
  {
   "cell_type": "code",
   "execution_count": 97,
   "metadata": {},
   "outputs": [],
   "source": [
    "def even(nb):\n",
    "    if nb % 2 == 0:\n",
    "        return True\n",
    "    else:\n",
    "        return False"
   ]
  }
 ],
 "metadata": {
  "celltoolbar": "Slideshow",
  "kernelspec": {
   "display_name": "Python 3 (ipykernel)",
   "language": "python",
   "name": "python3"
  },
  "language_info": {
   "codemirror_mode": {
    "name": "ipython",
    "version": 3
   },
   "file_extension": ".py",
   "mimetype": "text/x-python",
   "name": "python",
   "nbconvert_exporter": "python",
   "pygments_lexer": "ipython3",
   "version": "3.10.12"
  },
  "livereveal": {
   "autolaunch": true,
   "scroll": true,
   "transition": "none"
  }
 },
 "nbformat": 4,
 "nbformat_minor": 2
}
