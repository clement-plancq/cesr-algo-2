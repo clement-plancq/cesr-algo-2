{
 "cells": [
  {
   "cell_type": "markdown",
   "metadata": {
    "slideshow": {
     "slide_type": "-"
    }
   },
   "source": [
    "# Algo 2 – Python\n",
    "\n",
    "## Cours 10 – POO (classes, objets, bidules)\n",
    "<small>Remix du [support de Loïc Grobol](https://github.com/LoicGrobol/web-interfaces/blob/main/slides/03-OOP/oop.py.md)</small>\n",
    "\n",
    "###  Master Humanités Numériques du CESR"
   ]
  },
  {
   "cell_type": "markdown",
   "metadata": {
    "slideshow": {
     "slide_type": "slide"
    }
   },
   "source": [
    "Les variables vous connaissez.\n",
    "\n",
    "Elles peuvent représenter des valeurs simples."
   ]
  },
  {
   "cell_type": "code",
   "execution_count": null,
   "metadata": {
    "slideshow": {
     "slide_type": "-"
    }
   },
   "outputs": [],
   "source": [
    "x = 27"
   ]
  },
  {
   "cell_type": "markdown",
   "metadata": {
    "slideshow": {
     "slide_type": "subslide"
    }
   },
   "source": [
    "Ou parfois des concepts sophistiqués"
   ]
  },
  {
   "cell_type": "code",
   "execution_count": null,
   "metadata": {
    "slideshow": {
     "slide_type": "-"
    }
   },
   "outputs": [],
   "source": [
    "import math\n",
    "\n",
    "point_1 = (27, 13)\n",
    "point_2 = (19, 84)\n",
    "\n",
    "def distance(p1, p2):\n",
    "    \"\"\" \n",
    "    La distance entre deux points est la racine carrée de la somme des carrés\n",
    "    des différences des abscisses et des ordonnées\n",
    "    \"\"\"\n",
    "    return math.sqrt((p2[0]-p1[0])**2+(p2[1]-p1[1])**2)\n",
    "\n",
    "distance(point_1, point_2)"
   ]
  },
  {
   "cell_type": "markdown",
   "metadata": {
    "slideshow": {
     "slide_type": "-"
    }
   },
   "source": [
    "Cela peut devenir pénible à écrire et à comprendre"
   ]
  },
  {
   "cell_type": "markdown",
   "metadata": {
    "slideshow": {
     "slide_type": "subslide"
    }
   },
   "source": [
    "Pour simplifier, on peut nommer les données contenues dans les variables, par exemple avec un `dict`"
   ]
  },
  {
   "cell_type": "code",
   "execution_count": null,
   "metadata": {
    "slideshow": {
     "slide_type": "-"
    }
   },
   "outputs": [],
   "source": [
    "point_1 = {'x': 27, 'y': 13}\n",
    "point_2 = {'x': 19, 'y': 84}\n",
    "\n",
    "def distance(p1, p2):\n",
    "    return math.sqrt((p2['x']-p1['x'])**2+(p2['y']-p1['y'])**2)\n",
    "\n",
    "distance(point_1, point_2)"
   ]
  },
  {
   "cell_type": "markdown",
   "metadata": {
    "slideshow": {
     "slide_type": "-"
    }
   },
   "source": [
    "C'est toujours aussi pénible à écrire mais un peu moins à lire"
   ]
  },
  {
   "cell_type": "markdown",
   "metadata": {
    "slideshow": {
     "slide_type": "subslide"
    }
   },
   "source": [
    "On peut avoir une syntaxe plus agréable en utilisant des tuples nommés"
   ]
  },
  {
   "cell_type": "code",
   "execution_count": 3,
   "metadata": {
    "slideshow": {
     "slide_type": "-"
    }
   },
   "outputs": [
    {
     "data": {
      "text/plain": [
       "71.449282711585"
      ]
     },
     "execution_count": 3,
     "metadata": {},
     "output_type": "execute_result"
    }
   ],
   "source": [
    "from collections import namedtuple\n",
    "Point = namedtuple('Point', ('x', 'y'))\n",
    "\n",
    "point_1 = Point(27, 13)\n",
    "point_2 = Point(19, 84)\n",
    "\n",
    "def distance(p1, p2):\n",
    "    return math.sqrt((p2.x-p1.x)**2+(p2.y-p1.y)**2)\n",
    "\n",
    "distance(point_1, point_2)"
   ]
  },
  {
   "cell_type": "markdown",
   "metadata": {
    "slideshow": {
     "slide_type": "slide"
    }
   },
   "source": [
    "## Peut mieux faire\n",
    "  - Les trucs créés via `namedtuple` sont ce qu'on appelle des *enregistrements* (en C des *struct*s)\n",
    "  - Ils permettent de regrouper de façon lisibles des données qui vont ensemble. Par exemple :\n",
    "    - Abscisse et ordonnée d'un point\n",
    "    - Année, mois et jour d'une date\n",
    "    - Prénom et nom d'une personne"
   ]
  },
  {
   "cell_type": "code",
   "execution_count": 4,
   "metadata": {
    "slideshow": {
     "slide_type": "subslide"
    }
   },
   "outputs": [
    {
     "name": "stdout",
     "output_type": "stream",
     "text": [
      "False\n",
      "True\n"
     ]
    }
   ],
   "source": [
    "Vecteur = namedtuple('Vecteur', ('x', 'y'))\n",
    "\n",
    "v1 = Vecteur(27, 13)\n",
    "v2 = Vecteur(1, 0)\n",
    "\n",
    "def norm(v):\n",
    "    return math.sqrt(v.x**2 + v.y**2)\n",
    "\n",
    "def is_unit(v):\n",
    "    return norm(v) == 1\n",
    "\n",
    "print(is_unit(v1))\n",
    "print(is_unit(v2))"
   ]
  },
  {
   "cell_type": "markdown",
   "metadata": {
    "slideshow": {
     "slide_type": "-"
    }
   },
   "source": [
    "C'est plutôt lisible"
   ]
  },
  {
   "cell_type": "markdown",
   "metadata": {
    "slideshow": {
     "slide_type": "subslide"
    }
   },
   "source": [
    "Mais si je veux pouvoir faire aussi de la 3d"
   ]
  },
  {
   "cell_type": "code",
   "execution_count": 5,
   "metadata": {
    "slideshow": {
     "slide_type": "-"
    }
   },
   "outputs": [
    {
     "name": "stdout",
     "output_type": "stream",
     "text": [
      "False\n",
      "True\n"
     ]
    }
   ],
   "source": [
    "Vecteur3D = namedtuple('Vecteur3D', ('x', 'y', 'z'))\n",
    "\n",
    "u1 = Vecteur3D(27, 13, 6)\n",
    "u2 = Vecteur3D(1, 0, 0)\n",
    "\n",
    "def norm3d(v):\n",
    "    return math.sqrt(v.x**2 + v.y**2 + v.z**2)\n",
    "\n",
    "def is_unit3d(v):\n",
    "    return norm3d(v) == 1\n",
    "\n",
    "print(is_unit3d(u1))\n",
    "print(is_unit3d(u2))"
   ]
  },
  {
   "cell_type": "markdown",
   "metadata": {},
   "source": [
    "Ça oblige à dupliquer le code, ce n’est pas idéal."
   ]
  },
  {
   "cell_type": "markdown",
   "metadata": {
    "slideshow": {
     "slide_type": "subslide"
    }
   },
   "source": [
    "Une autre solution"
   ]
  },
  {
   "cell_type": "code",
   "execution_count": 6,
   "metadata": {},
   "outputs": [
    {
     "name": "stdout",
     "output_type": "stream",
     "text": [
      "False\n",
      "True\n"
     ]
    }
   ],
   "source": [
    "def norm(v):\n",
    "    if isinstance(v, Vecteur3D):\n",
    "        return math.sqrt(v.x**2 + v.y**2 + v.z**2)\n",
    "    elif isinstance(v, Vecteur):\n",
    "        return math.sqrt(v.x**2 + v.y**2)\n",
    "    else:\n",
    "        raise ValueError('Type non supporté')\n",
    "\n",
    "def is_unit(v):\n",
    "    return norm(v) == 1\n",
    "\n",
    "print(is_unit(v1))\n",
    "print(is_unit(u2))"
   ]
  },
  {
   "cell_type": "markdown",
   "metadata": {
    "slideshow": {
     "slide_type": "-"
    }
   },
   "source": [
    "C'est un peu mieux mais pas parfait"
   ]
  },
  {
   "cell_type": "markdown",
   "metadata": {
    "slideshow": {
     "slide_type": "slide"
    }
   },
   "source": [
    "## Ces fameux objets\n",
    "Une des solutions pour faire mieux c'est de passer à la vitesse supérieure : les objets."
   ]
  },
  {
   "cell_type": "code",
   "execution_count": 7,
   "metadata": {
    "slideshow": {
     "slide_type": "-"
    }
   },
   "outputs": [
    {
     "data": {
      "text/plain": [
       "27"
      ]
     },
     "execution_count": 7,
     "metadata": {},
     "output_type": "execute_result"
    }
   ],
   "source": [
    "import math\n",
    "\n",
    "class Vecteur:\n",
    "    def __init__(self, x, y):\n",
    "        self.x = x\n",
    "        self.y = y\n",
    "        \n",
    "    def norm(self):\n",
    "        return math.sqrt(self.x**2 + self.y**2)\n",
    "\n",
    "v1 = Vecteur(27, 13)\n",
    "v2 = Vecteur(1, 0)\n",
    "\n",
    "v1.x\n",
    "#print(v2.norm())"
   ]
  },
  {
   "cell_type": "code",
   "execution_count": 8,
   "metadata": {
    "slideshow": {
     "slide_type": "subslide"
    }
   },
   "outputs": [
    {
     "name": "stdout",
     "output_type": "stream",
     "text": [
      "30.56141357987225\n",
      "1.0\n"
     ]
    }
   ],
   "source": [
    "class Vecteur3D:\n",
    "    def __init__(self, x, y, z):\n",
    "        self.x = x\n",
    "        self.y = y\n",
    "        self.z = z\n",
    "        \n",
    "    def norm(self):\n",
    "        return math.sqrt(self.x**2 + self.y**2 + self.z**2)\n",
    "\n",
    "u1 = Vecteur3D(27, 13, 6)\n",
    "u2 = Vecteur3D(1, 0, 0)\n",
    "\n",
    "print(u1.norm())\n",
    "print(u2.norm())"
   ]
  },
  {
   "cell_type": "code",
   "execution_count": 9,
   "metadata": {
    "slideshow": {
     "slide_type": "subslide"
    }
   },
   "outputs": [
    {
     "name": "stdout",
     "output_type": "stream",
     "text": [
      "False\n",
      "True\n"
     ]
    }
   ],
   "source": [
    "def is_unit(v):\n",
    "    return v.norm() == 1\n",
    "\n",
    "print(is_unit(v1))\n",
    "print(is_unit(u2))"
   ]
  },
  {
   "cell_type": "markdown",
   "metadata": {
    "slideshow": {
     "slide_type": "-"
    }
   },
   "source": [
    "Le choix de la bonne fonction `norm` se fait automagiquement"
   ]
  },
  {
   "cell_type": "markdown",
   "metadata": {
    "slideshow": {
     "slide_type": "subslide"
    }
   },
   "source": [
    "Résumons\n",
    "  - Un objet, c'est un bidule qui regroupe\n",
    "    - Des données (on dit *attributs* ou *propriétés*)\n",
    "    - Des fonctions (on dit des *méthodes*)\n",
    "  - Ça permet d'organiser son code de façon plus lisible et plus facilement réutilisable (croyez moi sur parole)"
   ]
  },
  {
   "cell_type": "markdown",
   "metadata": {
    "slideshow": {
     "slide_type": "subslide"
    }
   },
   "source": [
    "Et vous en avez déjà rencontré plein"
   ]
  },
  {
   "cell_type": "code",
   "execution_count": 10,
   "metadata": {},
   "outputs": [
    {
     "name": "stdout",
     "output_type": "stream",
     "text": [
      "<class 'str'>\n",
      "True\n"
     ]
    }
   ],
   "source": [
    "print(type('abc'))\n",
    "print('abc'.islower())"
   ]
  },
  {
   "cell_type": "markdown",
   "metadata": {},
   "source": [
    "Car en Python, tout est objet. Ce qui ne veut pas dire qu'on est obligé d'y faire attention…"
   ]
  },
  {
   "cell_type": "markdown",
   "metadata": {
    "slideshow": {
     "slide_type": "slide"
    }
   },
   "source": [
    "## POO\n",
    "\n",
    "La programmation orientée objet (POO) est une manière de programmer différente de la programmation procédurale vue jusqu'ici.\n",
    "\n",
    "  - Les outils de base sont les objets et les classes\n",
    "  - Un concept → une classe, une réalisation concrète → un objet\n",
    "\n",
    "C'est une façon particulière de résoudre les problèmes, on parle de *paradigme*, et il y en a d'autres\n",
    "  \n",
    "  - Fonctionnel : les outils de base sont les fonctions\n",
    "  - Impérative : les outils de base sont les structures de contrôle (boucles, tests…)\n",
    "\n",
    "Python fait partie des langages multi-paradigmes : on utilise le plus pratique."
   ]
  },
  {
   "cell_type": "markdown",
   "metadata": {
    "slideshow": {
     "slide_type": "slide"
    }
   },
   "source": [
    "## Classes\n",
    "* On définit une classe en utilisant le mot-clé `class`\n",
    "* Par conventions, les noms de classe s'écrivent avec des  majuscules (CapWords convention)\n"
   ]
  },
  {
   "cell_type": "code",
   "execution_count": 11,
   "metadata": {
    "slideshow": {
     "slide_type": "-"
    }
   },
   "outputs": [],
   "source": [
    "class Cake:\n",
    "    \"\"\" Classe Cake : un gâteau quoi \"\"\"\n",
    "    pass"
   ]
  },
  {
   "cell_type": "markdown",
   "metadata": {
    "slideshow": {
     "slide_type": "subslide"
    }
   },
   "source": [
    "Pour créer un objet, on appelle simplement sa classe comme une fonction"
   ]
  },
  {
   "cell_type": "code",
   "execution_count": 12,
   "metadata": {
    "slideshow": {
     "slide_type": "-"
    }
   },
   "outputs": [
    {
     "name": "stdout",
     "output_type": "stream",
     "text": [
      "<class '__main__.Cake'>\n"
     ]
    }
   ],
   "source": [
    "cake_1 = Cake()\n",
    "print(type(cake_1)) # renvoie la classe qu'instancie l'objet"
   ]
  },
  {
   "cell_type": "markdown",
   "metadata": {
    "slideshow": {
     "slide_type": "-"
    }
   },
   "source": [
    "On dit que `cake_1` est une *instance* de la classe `Cake`"
   ]
  },
  {
   "cell_type": "markdown",
   "metadata": {
    "slideshow": {
     "slide_type": "subslide"
    }
   },
   "source": [
    "Et il a déjà des attributs et des méthodes"
   ]
  },
  {
   "cell_type": "code",
   "execution_count": 43,
   "metadata": {},
   "outputs": [
    {
     "data": {
      "text/plain": [
       "' Classe Cake : un gâteau quoi '"
      ]
     },
     "execution_count": 43,
     "metadata": {},
     "output_type": "execute_result"
    }
   ],
   "source": [
    "cake_1.__doc__"
   ]
  },
  {
   "cell_type": "code",
   "execution_count": 14,
   "metadata": {},
   "outputs": [
    {
     "name": "stdout",
     "output_type": "stream",
     "text": [
      "['__class__', '__delattr__', '__dict__', '__dir__', '__doc__', '__eq__', '__format__', '__ge__', '__getattribute__', '__gt__', '__hash__', '__init__', '__init_subclass__', '__le__', '__lt__', '__module__', '__ne__', '__new__', '__reduce__', '__reduce_ex__', '__repr__', '__setattr__', '__sizeof__', '__str__', '__subclasshook__', '__weakref__']\n"
     ]
    }
   ],
   "source": [
    "print(dir(cake_1))"
   ]
  },
  {
   "cell_type": "markdown",
   "metadata": {
    "slideshow": {
     "slide_type": "subslide"
    }
   },
   "source": [
    "Et aussi un identifiant unique"
   ]
  },
  {
   "cell_type": "code",
   "execution_count": 15,
   "metadata": {},
   "outputs": [
    {
     "data": {
      "text/plain": [
       "140295299217872"
      ]
     },
     "execution_count": 15,
     "metadata": {},
     "output_type": "execute_result"
    }
   ],
   "source": [
    "id(cake_1)"
   ]
  },
  {
   "cell_type": "code",
   "execution_count": 16,
   "metadata": {},
   "outputs": [
    {
     "data": {
      "text/plain": [
       "140295299204384"
      ]
     },
     "execution_count": 16,
     "metadata": {},
     "output_type": "execute_result"
    }
   ],
   "source": [
    "cake_2 = Cake()\n",
    "id(cake_2)"
   ]
  },
  {
   "cell_type": "markdown",
   "metadata": {
    "slideshow": {
     "slide_type": "subslide"
    }
   },
   "source": [
    "\n",
    "## Constructeur et attributs\n",
    "\n",
    "* Il existe une méthode spéciale `__init__()` qui automatiquement appelée lors de la création d'un objet. C'est le constructeur\n",
    "\n",
    "* Le constructeur permet de définir un état initial à l'objet, lui donner des attributs par exemple\n",
    "\n",
    "* Les attributs dans l'exemple ci-dessous sont des variables propres à un objet, une instance\n"
   ]
  },
  {
   "cell_type": "code",
   "execution_count": 18,
   "metadata": {
    "slideshow": {
     "slide_type": "-"
    }
   },
   "outputs": [
    {
     "data": {
      "text/plain": [
       "250"
      ]
     },
     "execution_count": 18,
     "metadata": {},
     "output_type": "execute_result"
    }
   ],
   "source": [
    "class Cake:\n",
    "    \"\"\" Classe Cake : un gâteau quoi \"\"\"\n",
    "    \n",
    "    def __init__(self, farine, oeuf, beurre):\n",
    "        self.farine = farine\n",
    "        self.oeuf = oeuf\n",
    "        self.beurre = beurre\n",
    "\n",
    "gato = Cake(250, 3, 125)\n",
    "gato.farine"
   ]
  },
  {
   "cell_type": "code",
   "execution_count": 35,
   "metadata": {},
   "outputs": [
    {
     "data": {
      "text/plain": [
       "125"
      ]
     },
     "execution_count": 35,
     "metadata": {},
     "output_type": "execute_result"
    }
   ],
   "source": [
    "flan = Cake(125, 6, 50)\n",
    "flan.farine"
   ]
  },
  {
   "cell_type": "code",
   "execution_count": 36,
   "metadata": {},
   "outputs": [
    {
     "data": {
      "text/plain": [
       "50"
      ]
     },
     "execution_count": 36,
     "metadata": {},
     "output_type": "execute_result"
    }
   ],
   "source": [
    "madeleine = Cake(50, 3, 300)\n",
    "madeleine.farine"
   ]
  },
  {
   "cell_type": "markdown",
   "metadata": {
    "slideshow": {
     "slide_type": "slide"
    }
   },
   "source": [
    "## Méthodes\n",
    "\n",
    "* Les méthodes d'une classe sont des fonctions. Elles indiquent quelles actions peut mener un objet, elles peuvent donner des informations sur l'objet ou encore le modifier.\n",
    "* Par convention, on nomme `self` leur premier paramètre, qui fera référence à l'objet lui-même.\n"
   ]
  },
  {
   "cell_type": "code",
   "execution_count": 38,
   "metadata": {
    "slideshow": {
     "slide_type": "-"
    }
   },
   "outputs": [],
   "source": [
    "class Cake:\n",
    "    \"\"\" Classe Cake : un gâteau quoi \"\"\"\n",
    "    \n",
    "    def __init__(self, farine, oeuf, beurre):\n",
    "        self.farine = farine\n",
    "        self.oeuf = oeuf\n",
    "        self.beurre = beurre\n",
    "    \n",
    "    def __repr__(self):\n",
    "        return f\"Un gâteau avec de la farine ({self.farine}, des œufs ({self.oeuf}) et du beurre ({self.beurre})\"\n",
    "    \n",
    "    def is_trop_gras(self):\n",
    "        if self.farine + self.beurre > 500:\n",
    "            return True\n",
    "        else:\n",
    "            return False\n",
    "            \n",
    "    def cuire(self):\n",
    "        return self.beurre / self.oeuf"
   ]
  },
  {
   "cell_type": "code",
   "execution_count": 44,
   "metadata": {},
   "outputs": [
    {
     "name": "stdout",
     "output_type": "stream",
     "text": [
      "False\n",
      "True\n"
     ]
    }
   ],
   "source": [
    "flan = Cake(200, 6, 50)\n",
    "madeleine = Cake(50, 2, 500)\n",
    "print(flan.is_trop_gras())\n",
    "print(madeleine.is_trop_gras())"
   ]
  },
  {
   "cell_type": "markdown",
   "metadata": {
    "slideshow": {
     "slide_type": "slide"
    }
   },
   "source": [
    "# Héritage\n"
   ]
  },
  {
   "cell_type": "code",
   "execution_count": 46,
   "metadata": {
    "slideshow": {
     "slide_type": "-"
    }
   },
   "outputs": [],
   "source": [
    "class Cake:\n",
    "    \"\"\" un beau gâteau \"\"\"\n",
    "\n",
    "    def __init__(self, farine, oeuf, beurre):\n",
    "        self.farine = farine\n",
    "        self.oeuf = oeuf\n",
    "        self.beurre = beurre\n",
    "        self.poids = self.farine + self.oeuf*50 + self.beurre\n",
    "\n",
    "    def is_trop_gras(self):\n",
    "        if self.farine + self.beurre > 500:\n",
    "            return True\n",
    "        else:\n",
    "            return False\n",
    "    \n",
    "    def cuire(self):\n",
    "        return self.beurre / self.oeuf"
   ]
  },
  {
   "cell_type": "code",
   "execution_count": 47,
   "metadata": {},
   "outputs": [
    {
     "data": {
      "text/plain": [
       "1150"
      ]
     },
     "execution_count": 47,
     "metadata": {},
     "output_type": "execute_result"
    }
   ],
   "source": [
    "gateau = Cake(200, 3, 800)\n",
    "gateau.poids"
   ]
  },
  {
   "cell_type": "markdown",
   "metadata": {
    "slideshow": {
     "slide_type": "slide"
    }
   },
   "source": [
    "Cake est la classe mère.\n",
    "\n",
    "Les classes enfants vont hériter de ses méthodes et de ses attributs.\n",
    "\n",
    "Cela permet de factoriser le code, d'éviter les répétitions et les erreurs qui en découlent.\n"
   ]
  },
  {
   "cell_type": "code",
   "execution_count": 56,
   "metadata": {
    "slideshow": {
     "slide_type": "-"
    }
   },
   "outputs": [],
   "source": [
    "class CarrotCake(Cake):\n",
    "    \"\"\" pas seulement pour les lapins\n",
    "        hérite de Cake \"\"\"\n",
    "\n",
    "    carotte = 3\n",
    "    \n",
    "    def cuire(self):\n",
    "        return self.carotte * self.oeuf\n"
   ]
  },
  {
   "cell_type": "code",
   "execution_count": 65,
   "metadata": {},
   "outputs": [],
   "source": [
    "class ChocolateCake(Cake):\n",
    "    \"\"\" LE gâteau \n",
    "        hérite de Cake \"\"\"\n",
    "    \n",
    "    def add_chocolat(self, chocolat):\n",
    "        self.chocolat = chocolat\n",
    "        \n",
    "    def is_trop_gras(self):\n",
    "        return False"
   ]
  },
  {
   "cell_type": "code",
   "execution_count": 106,
   "metadata": {
    "slideshow": {
     "slide_type": "subslide"
    }
   },
   "outputs": [
    {
     "data": {
      "text/plain": [
       "False"
      ]
     },
     "execution_count": 106,
     "metadata": {},
     "output_type": "execute_result"
    }
   ],
   "source": [
    "gato_carotte = CarrotCake(200, 3, 150)\n",
    "gato_carotte.cuire()\n",
    "gato_carotte.is_trop_gras()"
   ]
  },
  {
   "cell_type": "code",
   "execution_count": 29,
   "metadata": {
    "slideshow": {
     "slide_type": "-"
    }
   },
   "outputs": [
    {
     "data": {
      "text/plain": [
       "266.6666666666667"
      ]
     },
     "execution_count": 29,
     "metadata": {},
     "output_type": "execute_result"
    }
   ],
   "source": [
    "gato.cuire()"
   ]
  },
  {
   "cell_type": "code",
   "execution_count": 68,
   "metadata": {
    "slideshow": {
     "slide_type": "-"
    }
   },
   "outputs": [
    {
     "data": {
      "text/plain": [
       "300"
      ]
     },
     "execution_count": 68,
     "metadata": {},
     "output_type": "execute_result"
    }
   ],
   "source": [
    "gato_2 = ChocolateCake(200, 6, 200)\n",
    "gato_2.add_chocolat(300)\n",
    "gato_2.chocolat"
   ]
  },
  {
   "cell_type": "markdown",
   "metadata": {
    "slideshow": {
     "slide_type": "-"
    }
   },
   "source": [
    "L'héritage est à utiliser avec parcimonie. On utilisera volontiers par contre la composition c-a-d l'utilisation d'objets d'autres classes comme attributs. Voir https://python-patterns.guide/gang-of-four/composition-over-inheritance/"
   ]
  },
  {
   "cell_type": "markdown",
   "metadata": {
    "slideshow": {
     "slide_type": "slide"
    }
   },
   "source": [
    "### ☕  Exercice ☕\n",
    "\n",
    "- Complétez la classe `Cake` en ajoutant une méthode qui donne la température de cuisson\n",
    "- Écrivez une classe `Flan` qui hérite de `Cake`. Un flan a comme ingrédient supplémentaire du lait et sa température de cuisson ne doit pas excéder 180°"
   ]
  },
  {
   "cell_type": "code",
   "execution_count": 71,
   "metadata": {},
   "outputs": [],
   "source": [
    "class Cake:\n",
    "    \"\"\" un beau gâteau \"\"\"\n",
    "\n",
    "    def __init__(self, farine, oeuf, beurre):\n",
    "        self.farine = farine\n",
    "        self.oeuf = oeuf\n",
    "        self.beurre = beurre\n",
    "        self.poids = self.farine + self.oeuf*50 + self.beurre\n",
    "\n",
    "    def temperature(self):\n",
    "        return self.farine * self.oeuf\n",
    "    \n",
    "    def is_trop_gras(self):\n",
    "        if self.farine + self.beurre > 500:\n",
    "            return True\n",
    "        else:\n",
    "            return False\n",
    "    \n",
    "    def cuire(self):\n",
    "        return self.beurre / self.oeuf"
   ]
  },
  {
   "cell_type": "code",
   "execution_count": 74,
   "metadata": {},
   "outputs": [],
   "source": [
    "class Flan(Cake):\n",
    "    def __init__(self, farine, oeuf, beurre, lait):\n",
    "        self.farine = farine\n",
    "        self.oeuf = oeuf\n",
    "        self.beurre = beurre\n",
    "        self.lait = lait\n",
    "\n",
    "    def cuire(self):\n",
    "        if self.beurre / self.oeuf > 180:\n",
    "            return 180\n",
    "        else:\n",
    "            return self.beurre / self.oeuf"
   ]
  },
  {
   "cell_type": "code",
   "execution_count": 73,
   "metadata": {},
   "outputs": [
    {
     "name": "stdout",
     "output_type": "stream",
     "text": [
      "La température est de 600° C\n"
     ]
    }
   ],
   "source": [
    "gato = Cake(200, 3, 800)\n",
    "temp = gato.temperature()\n",
    "print(f\"La température est de {temp}° C\")"
   ]
  },
  {
   "cell_type": "markdown",
   "metadata": {
    "slideshow": {
     "slide_type": "slide"
    }
   },
   "source": [
    "# Encapsulation"
   ]
  },
  {
   "cell_type": "markdown",
   "metadata": {
    "slideshow": {
     "slide_type": "-"
    }
   },
   "source": [
    "L’encapsulation est un des concepts importants de l’approche orientée objet. Son principe est de cacher les structures de données d’une classe et de les rendre accessibles par des méthodes.\n",
    "\n",
    "Un exemple : j’utilise des arômes alimentaires dans mes gâteaux, je peux choisir de ne pas les dévoiler à l’utilisateur.\n",
    "\n",
    "Avec l’encapsulation on définit une interface publique pour nos objets en cachant tout ou partie de l’état des données."
   ]
  },
  {
   "cell_type": "code",
   "execution_count": 85,
   "metadata": {
    "slideshow": {
     "slide_type": "subslide"
    }
   },
   "outputs": [],
   "source": [
    "class StrawberryCake(Cake):\n",
    "    \"\"\" Un gâteau à la 🍓 \"\"\"\n",
    "\n",
    "    def __init__(self, farine, oeuf, beurre, fraises):\n",
    "        self.farine = farine\n",
    "        self.oeuf = oeuf\n",
    "        self.beurre = beurre\n",
    "        self.fraises = fraises\n",
    "        self.__arome = 12 # Sirop de glucose, propylène glycol, eau, arômes naturels.\n",
    "        self.__marge = 10\n",
    "        \n",
    "    def getPrix(self):\n",
    "        return self.beurre * 0.5 + self.oeuf * 1 + self.__marge\n",
    "    \n",
    "    def getFlavor(self):\n",
    "        return \"Fraise\""
   ]
  },
  {
   "cell_type": "code",
   "execution_count": 86,
   "metadata": {
    "slideshow": {
     "slide_type": "-"
    }
   },
   "outputs": [
    {
     "name": "stdout",
     "output_type": "stream",
     "text": [
      "74.5\n"
     ]
    }
   ],
   "source": [
    "gato_fraise = StrawberryCake(120, 2, 125, 15)\n",
    "gato_fraise.getFlavor()\n",
    "print(gato_fraise.getPrix())\n"
   ]
  },
  {
   "cell_type": "markdown",
   "metadata": {
    "slideshow": {
     "slide_type": "-"
    }
   },
   "source": [
    "Si je choisis de passer à des arômes naturels pour mes gâteaux à la fraise je pourrai modifier le code de ma classe mais ça ne pertubera pas le code qui utilise ma classe."
   ]
  },
  {
   "cell_type": "markdown",
   "metadata": {
    "slideshow": {
     "slide_type": "slide"
    }
   },
   "source": [
    "# Modélisation"
   ]
  },
  {
   "cell_type": "markdown",
   "metadata": {
    "slideshow": {
     "slide_type": "-"
    }
   },
   "source": [
    "Un des aspects qui a fait le succès de l’approche objet c’est qu’elle se prête très bien à la modélisation.\n",
    "\n",
    "On peut concevoir l’organisation des classes, la façon de les utiliser avant de se lancer dans l’implémentation. L’étape de modélisation repose le plus souvent sur l’utilisation d’[UML (Unified Modelisation Langage)](https://en.wikipedia.org/wiki/Unified_Modeling_Language)"
   ]
  },
  {
   "cell_type": "markdown",
   "metadata": {
    "slideshow": {
     "slide_type": "subslide"
    }
   },
   "source": [
    "Exemple de diagramme de classe : ![](https://mermaid.ink/svg/pako:eNptksFuwjAMhl8l8mnT6AtEu4F224lrJWQSp0RrG-Q4TIjx7qTQFaU0l0T_73zK7_gCJlgCDabFGDceG8au7lVea_wh9flXVWp9CCa0KDRILyYyB1lytsL4uyfm88zV6sP3ohyy7xf0QMm9qntKzLNqkzzT2_usOO6Ew3GXk8R_756uzHF5OOpBN6OlnuoC5lrQpuAzFGZZaNKKRxaEskElxTH6OEGqKLlXjcro7kluSL5aPAWe6LCCjrhDb_OX3oE1yIHyHdD5aMlhaqWGuh9KMUnYnnsDWjjRCtLR5uaMQwDaYRuzStZL4O9xTIbtegNVo7IS)\n",
    "\n",
    "<small>Avec [MermaidJS](https://mermaid.js.org/)</small>"
   ]
  },
  {
   "cell_type": "code",
   "execution_count": 87,
   "metadata": {},
   "outputs": [],
   "source": [
    "class Ingredient():\n",
    "    \"\"\" Les ingrédients d’un gâteau \"\"\"\n",
    "    def __init__(self, nom, quantite):\n",
    "        self.nom = nom\n",
    "        self.quantite = quantite"
   ]
  },
  {
   "cell_type": "code",
   "execution_count": 104,
   "metadata": {},
   "outputs": [],
   "source": [
    "class Cake():\n",
    "    \"\"\" Un bon gâteau \"\"\"\n",
    "    def __init__(self, forme, ingredients, texture):\n",
    "        self.forme = forme\n",
    "        self.ingredients = ingredients\n",
    "        self.texture = texture\n",
    "\n",
    "    def __repr__(self):\n",
    "        ingredients_recette = [item.nom for item in self.ingredients]\n",
    "        return f\"Un super gâteau {self.texture} à base de {', '.join(ingredients_recette)}. À servir dans un plat {self.forme}.\"\n",
    "    \n",
    "    def cuire(self):\n",
    "        \"\"\" Renvoie le temps de cuisson \"\"\"\n",
    "        return len(self.ingredients) * 10"
   ]
  },
  {
   "cell_type": "code",
   "execution_count": 105,
   "metadata": {},
   "outputs": [
    {
     "name": "stdout",
     "output_type": "stream",
     "text": [
      "Un super gâteau sablééééé à base de farine, beurre. À servir dans un plat rond.\n"
     ]
    }
   ],
   "source": [
    "gato = Cake(\"rond\", [Ingredient(\"farine\", 200), Ingredient(\"beurre\", 150)], \"sablééééé\")\n",
    "print(gato)"
   ]
  }
 ],
 "metadata": {
  "celltoolbar": "Slideshow",
  "kernelspec": {
   "display_name": "Python 3 (ipykernel)",
   "language": "python",
   "name": "python3"
  },
  "language_info": {
   "codemirror_mode": {
    "name": "ipython",
    "version": 3
   },
   "file_extension": ".py",
   "mimetype": "text/x-python",
   "name": "python",
   "nbconvert_exporter": "python",
   "pygments_lexer": "ipython3",
   "version": "3.10.12"
  },
  "livereveal": {
   "autolaunch": true,
   "scroll": true,
   "transition": "none"
  }
 },
 "nbformat": 4,
 "nbformat_minor": 4
}
