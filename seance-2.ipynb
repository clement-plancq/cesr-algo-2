{
 "cells": [
  {
   "cell_type": "markdown",
   "id": "acbb8aff",
   "metadata": {
    "slideshow": {
     "slide_type": "slide"
    }
   },
   "source": [
    "# Algo 2 – Python\n",
    "\n",
    "## Cours 2 – rappels encore\n",
    "\n",
    "###  Master Humanités Numériques du CESR"
   ]
  },
  {
   "cell_type": "markdown",
   "id": "d7051d9a",
   "metadata": {
    "slideshow": {
     "slide_type": "slide"
    }
   },
   "source": [
    "Il nous reste un exercice à terminer de la séance précédente :  \n",
    "\n",
    "Écrire une fonction `is_palindrome` qui reçoit une chaîne de caractères, renvoie True si cette chaîne est un palindrome, faux sinon.  \n",
    "La fonction devra fonctionner quelque soit la casse du mot passé en paramètre."
   ]
  },
  {
   "cell_type": "code",
   "execution_count": null,
   "id": "838f37f7",
   "metadata": {},
   "outputs": [],
   "source": [
    "def is_palindrome(word):\n",
    "    \"\"\"\n",
    "    Returns True if the given word is a palindrome (i.e kayak), False otherwise\n",
    "    :param word: the word\n",
    "    :returns: bool\n",
    "    \"\"\"\n",
    "    return False"
   ]
  },
  {
   "cell_type": "code",
   "execution_count": null,
   "id": "23b39080",
   "metadata": {},
   "outputs": [],
   "source": [
    "# Ici on va tester la robustesse de notre fonction\n",
    "# C’est le même esprit que les tests que vous pouvez utiliser dans CodinGame\n",
    "assert is_palindrome(\"kayak\") == True\n",
    "assert is_palindrome(\"Kayak\") == True\n",
    "assert is_palindrome(\"\") == False\n",
    "assert is_palindrome(\"Canoé\") == False"
   ]
  },
  {
   "cell_type": "markdown",
   "id": "d1ea1266",
   "metadata": {
    "slideshow": {
     "slide_type": "slide"
    }
   },
   "source": [
    "La semaine passée nous avions écrit la fonction `is_even` :"
   ]
  },
  {
   "cell_type": "code",
   "execution_count": null,
   "id": "2d6c512d",
   "metadata": {},
   "outputs": [],
   "source": [
    "def even(nb):\n",
    "    if nb % 2 == 0:\n",
    "        return True\n",
    "    else:\n",
    "        return False"
   ]
  },
  {
   "cell_type": "markdown",
   "id": "e6d6d905",
   "metadata": {},
   "source": [
    "✍️ Exercice ✍️\n",
    "\n",
    "En vous aidant de la [documentation de `range`](https://docs.python.org/3/library/stdtypes.html#range), utilisez `range` et `is_even` pour afficher pour chaque chiffre entre 1 et 10 s’il est pair ou impair."
   ]
  },
  {
   "cell_type": "markdown",
   "id": "2aa58003",
   "metadata": {
    "slideshow": {
     "slide_type": "slide"
    }
   },
   "source": [
    "# Les fichiers\n",
    "\n",
    "* Pour travailler avec les fichiers on doit procéder à trois opérations :\n",
    "   1. Ouverture avec la fonction `open` (renvoie `IOError` en cas d'échec)\n",
    "   2. Lecture (`read` ou `readline` ou `readlines`) et/ou écriture (`write`)\n",
    "   3. Fermeture du fichier avec la fonction `close`\n",
    "\t      \n",
    "* Ouverture\n",
    "  * `open` est une fonction qui accepte de nombreux arguments : RTFM\n",
    "  * `open` renvoie un objet de type `file`\t      \n",
    "  * Le plus souvent elle s'emploie de la manière suivante:\n",
    "  ```python\n",
    ">>> #f = open(filename, mode)\t   \n",
    ">>> f = open('nom_fichier', 'r')\n",
    "```"
   ]
  },
  {
   "cell_type": "markdown",
   "id": "311c900f",
   "metadata": {
    "slideshow": {
     "slide_type": "subslide"
    }
   },
   "source": [
    "Les modes sont : \n",
    "\n",
    "* r : lecture (défaut)\n",
    "* w : écriture\n",
    "* x : création et écriture (échec si le fichier existe déjà)\n",
    "* a : concaténation (append)\n",
    "\t      \n",
    "* b : mode binaire\n",
    "* t : mode texte (défaut)\n",
    "* \\+ : read/write (ex: r+b)\n"
   ]
  },
  {
   "cell_type": "markdown",
   "id": "bf2fcf5a",
   "metadata": {
    "slideshow": {
     "slide_type": "subslide"
    }
   },
   "source": [
    "## Les fichiers : ouverture\n",
    "\n",
    "La documentation de Python conseille cette façon de faire \n",
    "```python\n",
    ">>> with open('mon_fichier', 'r') as f:\n",
    "...     read_data = f.read()\n",
    "```\n",
    "L'utilisation du mot clé `with` garantit la fermeture du fichier même si une exception est soulevée"
   ]
  },
  {
   "cell_type": "markdown",
   "id": "b2ad396d",
   "metadata": {
    "slideshow": {
     "slide_type": "subslide"
    }
   },
   "source": [
    "## Les fichiers : lecture\n",
    "\n",
    "Plusieurs options pour la lecture\n",
    "\n",
    "* la fonction `read()` sans argument retourne le contenu du fichier\n",
    "* elle peut recevoir en argument la taille des donnéees à retourner \n",
    "\n",
    "```python\n",
    "# Les n premiers octets\n",
    "3_chars = f.read(3) \n",
    "# Le reste du fichier\n",
    "content = f.read()\t      \n",
    "```"
   ]
  },
  {
   "cell_type": "markdown",
   "id": "da42d356",
   "metadata": {
    "slideshow": {
     "slide_type": "subslide"
    }
   },
   "source": [
    "* fonction `readline` et `readlines`\n",
    "\n",
    "```python\n",
    "for line in f.readline():\n",
    "    process(line)\n",
    "    \n",
    "lines = f.readlines()     \n",
    "```\n",
    "\n",
    "* un objet `file` est un itérable ! (_the pythonic way_)\n",
    "\n",
    "```python\n",
    "for line in f:\n",
    "    process(line)\n",
    "```\n"
   ]
  },
  {
   "cell_type": "markdown",
   "id": "f2f8f37e",
   "metadata": {
    "slideshow": {
     "slide_type": "subslide"
    }
   },
   "source": [
    "## Les fichiers : écriture et fermeture\n",
    "\n",
    "* fonction `write`\n",
    "```python\n",
    "for item in list:\n",
    "    f.write(item)\n",
    "```\n",
    "* fonction `close`\n",
    "\n",
    "  `f.close()`\n",
    "\n",
    "  En règle générale veillez à toujours fermer les objets fichiers\n",
    "\n",
    "  En mode écriture oublier de fermer un fichier peut réserver des mauvaises surprises\n",
    "\n",
    "* fonction `print`\n",
    "```python\n",
    "with open('mon_fichier', 'w') as output_f:\n",
    "    for item in list:\n",
    "        print(item, file=output_f)\n",
    "```\n",
    "* `sys.stdin`, `sys.stdout` et `sys.stderr` sont des objets de type `file`\n"
   ]
  },
  {
   "cell_type": "markdown",
   "id": "99842169",
   "metadata": {
    "slideshow": {
     "slide_type": "subslide"
    }
   },
   "source": [
    "✍️ Exercice ✍️\n",
    "\n",
    "Téléchargez le fichier csv disponible à l’url https://data.tours-metropole.fr/explore/dataset/terrain-de-petanque-tmvl/ (onglet Export).  \n",
    "Lisez le fichier csv et n’affichez que les terrains de pétanque situés dans la ville de Tours.\n"
   ]
  },
  {
   "cell_type": "markdown",
   "id": "b9d1a549",
   "metadata": {
    "slideshow": {
     "slide_type": "slide"
    }
   },
   "source": [
    "# Les structures données \n",
    "\n",
    "## Avant de commencer\n",
    "\n",
    "Les structures de données sont un point essentiel de tout langage de programmation\n",
    "\n",
    "Les diapos qui suivent n'offrent qu'une couverture partielle du sujet\n",
    "\n",
    "Vous *devez* lire attentivement et vous référer à la documentation officelle de Python :\n",
    "- [le chapitre 5 du tutoriel](https://docs.python.org/tutorial/datastructures.html)\n",
    "- la [doc](https://docs.python.org/library/stdtypes.html) sur les types built-in\n",
    "- la [doc](https://docs.python.org/library/collections.html) du module collections"
   ]
  },
  {
   "cell_type": "markdown",
   "id": "4cf16ce1",
   "metadata": {
    "slideshow": {
     "slide_type": "subslide"
    }
   },
   "source": [
    "# Les listes\n",
    "\n",
    "- Les listes sont des *sequences* (`str`, `tuple`, `list`)\n",
    "- Les *sequences* sont des structures de données indicées qui peuvent contenir des éléments de différents types\n",
    "- Les *sequences* sont des *iterables*, les listes aussi donc\n",
    "- Les éléments d'une liste peuvent être modifiés (*mutable*)\n",
    "\n",
    "- Une liste vide peut se déclarer de deux façons"
   ]
  },
  {
   "cell_type": "code",
   "execution_count": null,
   "id": "94da1128",
   "metadata": {},
   "outputs": [],
   "source": [
    "stack = list()\n",
    "stack = []"
   ]
  },
  {
   "cell_type": "code",
   "execution_count": null,
   "id": "04158b21",
   "metadata": {},
   "outputs": [],
   "source": [
    "stack = [\"le\", \"guépard\", \"le\", \"poursuit\"]\n",
    "stack = list('Tours')\n",
    "stack"
   ]
  },
  {
   "cell_type": "markdown",
   "id": "8badd237",
   "metadata": {
    "slideshow": {
     "slide_type": "subslide"
    }
   },
   "source": [
    "# Les listes : fonctions\n",
    "\n",
    "- Les listes héritent des fonctions des *sequences*, elles ont également des [fonctions propres](https://docs.python.org/tutorial/datastructures.html#more-on-lists)\n",
    "- Parmi ces fonctions nous utiliserons principalement :\n",
    "  - `append(x)` : ajoute un élément x à la fin de la liste (haut de la pile*)\n",
    "  - `extend([x, y, z])` : ajoute tous les éléments de la liste arg à la fin de la liste\n",
    "  - `pop([index])` : supprime et renvoie le dernier élément de la liste ou les index de la liste argument si arg\n",
    "  - `index(x)` : renvoie l'index du premier élément de valeur x\n",
    "  - `count(x)` : renvoie le nombre de fois où x apparaît\n",
    "  - `sort()` : trie et modifie la liste, lire la [doc](https://docs.python.org/howto/sorting.html#sortinghowto) pour en savoir plus sur les ordres de tri"
   ]
  },
  {
   "cell_type": "code",
   "execution_count": null,
   "id": "04b56b17",
   "metadata": {
    "slideshow": {
     "slide_type": "subslide"
    }
   },
   "outputs": [],
   "source": [
    "stack = [12, 15, 12, 7, 18]\n",
    "stack.index(12)"
   ]
  },
  {
   "cell_type": "code",
   "execution_count": null,
   "id": "3662f83a",
   "metadata": {},
   "outputs": [],
   "source": [
    "stack.count(12)"
   ]
  },
  {
   "cell_type": "code",
   "execution_count": null,
   "id": "9e0313bd",
   "metadata": {},
   "outputs": [],
   "source": [
    "stack.sort()\n",
    "stack"
   ]
  },
  {
   "cell_type": "code",
   "execution_count": null,
   "id": "f22bd880",
   "metadata": {
    "slideshow": {
     "slide_type": "subslide"
    }
   },
   "outputs": [],
   "source": [
    "stack.append(23)\n",
    "stack"
   ]
  },
  {
   "cell_type": "code",
   "execution_count": null,
   "id": "2c4a37f7",
   "metadata": {},
   "outputs": [],
   "source": [
    "stack.append([35, 46])\n",
    "stack"
   ]
  },
  {
   "cell_type": "code",
   "execution_count": null,
   "id": "0a7c957b",
   "metadata": {},
   "outputs": [],
   "source": [
    "stack.extend([51, 52])\n",
    "stack"
   ]
  },
  {
   "cell_type": "markdown",
   "id": "41b47b73",
   "metadata": {
    "slideshow": {
     "slide_type": "subslide"
    }
   },
   "source": [
    "# Les listes en compréhension\n",
    "\n",
    "- Elles permettent de définir des listes par filtrage ou opération sur les éléments d'une autre liste\n",
    "- Elles viennent de la programmation fonctionnelle\n",
    "- La [PEP 202](http://www.python.org/dev/peps/pep-0202/) conseille de préférer les listes en compréhension aux fonctions `map()` et `filter()`\n",
    "- Pas évident-évident de prime abord mais très expressif, élégant et *so pythonic*. Un dév python **doit** maîtriser les listes en compréhension"
   ]
  },
  {
   "cell_type": "code",
   "execution_count": null,
   "id": "ca61f421",
   "metadata": {},
   "outputs": [],
   "source": [
    "[i ** 2 for i in range(10)]"
   ]
  },
  {
   "cell_type": "code",
   "execution_count": null,
   "id": "8a3213b0",
   "metadata": {},
   "outputs": [],
   "source": [
    "[i ** 2 for i in range(10) if i % 2 == 0]"
   ]
  },
  {
   "cell_type": "code",
   "execution_count": null,
   "id": "9a8198d3",
   "metadata": {},
   "outputs": [],
   "source": [
    "[(i, j) for i in range(2) for j in ['a', 'b']]"
   ]
  },
  {
   "cell_type": "markdown",
   "id": "a5cffd4a",
   "metadata": {
    "slideshow": {
     "slide_type": "slide"
    }
   },
   "source": [
    "✍️ Exercice ✍️\n",
    "\n",
    "Reprenez le code pour le fichier csv sur les terrains de pétanque. Cette fois utilisez une liste pour stocker les terrains situés à Tours.  \n",
    "Affichez leur nombre puis leur nom par ordre alphabétique."
   ]
  },
  {
   "cell_type": "markdown",
   "id": "c59fdafd",
   "metadata": {
    "slideshow": {
     "slide_type": "slide"
    }
   },
   "source": [
    "## Module csv\n",
    "\n",
    "La documentation est ici : [https://docs.python.org/3/library/csv.html](https://docs.python.org/3/library/csv.html)  \n",
    "Parce que les données au format csv sont très répandues et parce qu'il peut être pénible de le lire correctement, le module csv est là pour vous aider.  \n",
    "Pour le dire vite il y a deux façons de l'utiliser : reader/writer ou DictReader/DictWriter."
   ]
  },
  {
   "cell_type": "markdown",
   "id": "f0feaac5",
   "metadata": {
    "slideshow": {
     "slide_type": "subslide"
    }
   },
   "source": [
    "- `csv.reader`"
   ]
  },
  {
   "cell_type": "code",
   "execution_count": null,
   "id": "a0e30afe",
   "metadata": {},
   "outputs": [],
   "source": [
    "import csv\n",
    "\n",
    "terrains_petanque = []\n",
    "with open('data/terrain-de-petanque-tmvl.csv') as csvfile:\n",
    "    reader = csv.reader(csvfile, delimiter=';', quotechar='\"') # à l'ouverture je spécifie les séparateur de champ et de chaîne  \n",
    "    for row in reader: # l'objet reader est un itérable\n",
    "        terrains_petanque.append(row[2])\n",
    "        print(row[2])"
   ]
  },
  {
   "cell_type": "markdown",
   "id": "31696240",
   "metadata": {
    "slideshow": {
     "slide_type": "subslide"
    }
   },
   "source": [
    "- `csv.writer`"
   ]
  },
  {
   "cell_type": "code",
   "execution_count": null,
   "id": "15e1df90",
   "metadata": {},
   "outputs": [],
   "source": [
    "with open('terrains_petanque.csv', 'w') as csvfile:\n",
    "    writer = csv.writer(csvfile, delimiter=',',quotechar='\"')\n",
    "    #writer.writerows(terrains_petanque) ici on écrit tout en une fois\n",
    "    for item in terrains_petanque:\n",
    "        writer.writerow([item, \"Tours\"]) # writerow reçoit une liste de chaînes"
   ]
  },
  {
   "cell_type": "markdown",
   "id": "6a0f59f5",
   "metadata": {
    "slideshow": {
     "slide_type": "subslide"
    }
   },
   "source": [
    " - csv.DictReader  \n",
    "Cette classe s'appuie sur la ligne d'en-tête pour créer une suite de dictionnaires.  \n",
    "S'il n'y a pas de ligne d'en-tête on peut utiliser une liste `fieldnames` en paramètre."
   ]
  },
  {
   "cell_type": "code",
   "execution_count": null,
   "id": "6d632f45",
   "metadata": {},
   "outputs": [],
   "source": [
    "with open('data/terrain-de-petanque-tmvl.csv') as csvfile:\n",
    "    reader = csv.DictReader(csvfile, delimiter=';',quotechar='\"')\n",
    "    for row in reader: # ici row est un dictionnaire\n",
    "        nom = row[\"Nom de l'équipement\"]\n",
    "        commune = row[\"Commune\"]\n",
    "        print(f\"{nom}, {commune}\")"
   ]
  },
  {
   "cell_type": "markdown",
   "id": "2e397683",
   "metadata": {
    "slideshow": {
     "slide_type": "subslide"
    }
   },
   "source": [
    "  - csv.DictWriter  \n",
    "  Cette fois il s'agit de générer un fichier csv à partir d'une séquence de dictionnaires. Le paramètre `fieldnames` est obligatoire."
   ]
  },
  {
   "cell_type": "code",
   "execution_count": 31,
   "id": "e0bcb2bd",
   "metadata": {},
   "outputs": [],
   "source": [
    "with open('terrains_petanque.csv', 'w') as csvfile:\n",
    "    fieldnames = ['Nom', 'Commune']\n",
    "    writer = csv.DictWriter(csvfile, fieldnames=fieldnames, delimiter=',',quotechar='\"')\n",
    "    writer.writeheader()\n",
    "    for item in terrains_petanque:\n",
    "        writer.writerow({'Nom': item, 'Commune': \"Tours\"})"
   ]
  },
  {
   "cell_type": "markdown",
   "id": "e43cc25b",
   "metadata": {
    "slideshow": {
     "slide_type": "slide"
    }
   },
   "source": [
    "✍️ Exercice ✍️\n",
    "\n",
    "Téléchargez le fichier csv disponible à l’url https://data.culture.gouv.fr/explore/dataset/liste-des-sites-patrimoniaux-remarquables-spr/  \n",
    "Utilisez le module `csv` et une ou des listes pour extraire les communes, départements et numéros de SPR dans la région Centre Val-de-Loire. Vous exporterez le résultat dans un nouveau fichier csv.\n",
    "\n"
   ]
  }
 ],
 "metadata": {
  "celltoolbar": "Slideshow",
  "kernelspec": {
   "display_name": "Python 3 (ipykernel)",
   "language": "python",
   "name": "python3"
  },
  "language_info": {
   "codemirror_mode": {
    "name": "ipython",
    "version": 3
   },
   "file_extension": ".py",
   "mimetype": "text/x-python",
   "name": "python",
   "nbconvert_exporter": "python",
   "pygments_lexer": "ipython3",
   "version": "3.10.12"
  }
 },
 "nbformat": 4,
 "nbformat_minor": 5
}
