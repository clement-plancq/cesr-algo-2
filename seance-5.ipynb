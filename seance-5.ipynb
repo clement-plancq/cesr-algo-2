{
 "cells": [
  {
   "cell_type": "markdown",
   "id": "d44ad35d",
   "metadata": {
    "slideshow": {
     "slide_type": "slide"
    }
   },
   "source": [
    "# Algo 2 – Python\n",
    "\n",
    "## Cours 5 – Dictionnaires (et des exercices) again again\n",
    "\n",
    "###  Master Humanités Numériques du CESR"
   ]
  },
  {
   "cell_type": "markdown",
   "id": "6af3200f",
   "metadata": {
    "slideshow": {
     "slide_type": "slide"
    }
   },
   "source": [
    "## Exercice d’échauffement\n",
    "\n",
    "Vous êtes maraicher. Vous vendez des bananes à 3€/kg, des pommes à 1.5€/kg, des poires à 2€/kg.  \n",
    "Votre premier client, Freddy Mercury, vous achète 2kg de bananes, 2kg de pommes  \n",
    "Votre deuxième client, David Bowie, vous achète 1kg de bananes, 2kg de pommes et 2kg de poires \n",
    "\n",
    "La semaine suivante les pommes passent à 1.75€/kg, les poires à 2.1€/kg. Vous avez aussi des kiwis à 0.75€ pièce.  \n",
    "Votre troisième client, Sigourney Weaver, vous achète 3kg de pommes, 1kg de poires et 2 kiwis\n",
    "\n",
    "Calculez le prix des paniers de chacun de clients"
   ]
  },
  {
   "cell_type": "code",
   "execution_count": 17,
   "id": "0cd2bf92",
   "metadata": {
    "slideshow": {
     "slide_type": "slide"
    }
   },
   "outputs": [
    {
     "name": "stdout",
     "output_type": "stream",
     "text": [
      "Bonjour Monsieur Mercury, vous me devez 9.0 euros svp\n",
      "Bonjour Monsieur Bowie, vous me devez 10.0 euros svp\n"
     ]
    }
   ],
   "source": [
    "prix = {\n",
    "    \"bananes\": 3.0,\n",
    "    \"pommes\": 1.5,\n",
    "    \"poires\": 2.0\n",
    "}\n",
    "\n",
    "# Freddy Mercury (2kg bananes, 2kg pommes)\n",
    "bananes_freddy = prix[\"bananes\"] * 2\n",
    "pommes_freddy = prix[\"pommes\"] * 2\n",
    "panier_freddy = bananes_freddy + pommes_freddy\n",
    "print(f\"Bonjour Monsieur Mercury, vous me devez {panier_freddy} euros svp\")\n",
    "\n",
    "# David Bowie (1kg bananes, 2kg pommes, 2kg poires)\n",
    "bananes_david = prix[\"bananes\"] * 1\n",
    "pommes_david = prix[\"pommes\"] * 2\n",
    "poires_david = prix[\"poires\"] * 2\n",
    "panier_david = bananes_david + pommes_david + poires_david\n",
    "print(f\"Bonjour Monsieur Bowie, vous me devez {panier_david} euros svp\")"
   ]
  },
  {
   "cell_type": "code",
   "execution_count": 18,
   "id": "b5e605fd",
   "metadata": {
    "scrolled": true,
    "slideshow": {
     "slide_type": "slide"
    }
   },
   "outputs": [
    {
     "name": "stdout",
     "output_type": "stream",
     "text": [
      "Bonjour Madame Weaver, vous me devez 8.85 euros svp\n"
     ]
    }
   ],
   "source": [
    "prix[\"kiwis\"] = 0.75\n",
    "prix[\"pommes\"] = 1.75\n",
    "prix[\"poires\"] = 2.1\n",
    "\n",
    "#Votre troisième client, Sigourney Weaver, vous achète 3kg de pommes, 1kg de poires et 2 kiwis\n",
    "bananes_sigourney = prix[\"bananes\"] * 0\n",
    "pommes_sigourney = prix[\"pommes\"] * 3\n",
    "poires_sigourney = prix[\"poires\"] * 1\n",
    "kiwis_sigourney = prix[\"kiwis\"] * 2\n",
    "panier_sigourney = bananes_sigourney + pommes_sigourney + poires_sigourney + kiwis_sigourney\n",
    "print(f\"Bonjour Madame Weaver, vous me devez {panier_sigourney} euros svp\")\n"
   ]
  },
  {
   "cell_type": "code",
   "execution_count": 20,
   "id": "acb95ae5",
   "metadata": {},
   "outputs": [
    {
     "name": "stdout",
     "output_type": "stream",
     "text": [
      "9.0\n"
     ]
    }
   ],
   "source": [
    "prix = {\n",
    "    \"bananes\": 3.0,\n",
    "    \"pommes\": 1.5,\n",
    "    \"poires\": 2.0\n",
    "}\n",
    "\n",
    "# on peut modéliser un peu en décrivant le panier d’un client comme un dictionnaire\n",
    "panier_freddy = {\"bananes\": 2.0, \"pommes\": 2.0}\n",
    "panier_david = {\"bananes\": 1.0, \"pommes\": 2.0, \"poires\": 2.0}\n",
    "\n",
    "# auquel cas on peut calculer le prix d’un panier à l’aide des deux dictionnaires\n",
    "montant_freddy = 0\n",
    "for item in panier_freddy:\n",
    "    montant_freddy += prix[item] * panier_freddy[item] # le prix d’un kq * le nb de kg\n",
    "print(montant_freddy)"
   ]
  },
  {
   "cell_type": "code",
   "execution_count": 48,
   "id": "f2f3d8fd",
   "metadata": {},
   "outputs": [
    {
     "name": "stdout",
     "output_type": "stream",
     "text": [
      "Prix du panier de Freddy : 9.0\n",
      "Prix du panier de David : 10.0\n"
     ]
    }
   ],
   "source": [
    "# on peut encore raffiner en utilisant une fonction\n",
    "def calculePanier(panier, tarifs):\n",
    "    montant = 0\n",
    "    for item in panier:\n",
    "        montant += tarifs[item] * panier[item]\n",
    "    return montant\n",
    "\n",
    "montant_freddy = calculePanier(panier_freddy, prix)\n",
    "montant_david = calculePanier(panier_david, prix)\n",
    "\n",
    "print(f\"Prix du panier de Freddy : {montant_freddy}\")\n",
    "print(f\"Prix du panier de David : {montant_david}\")"
   ]
  },
  {
   "cell_type": "markdown",
   "id": "76127ea2",
   "metadata": {
    "slideshow": {
     "slide_type": "slide"
    }
   },
   "source": [
    "## Prise en main de VSCode et du terminal"
   ]
  },
  {
   "cell_type": "markdown",
   "id": "41eb0c37",
   "metadata": {
    "slideshow": {
     "slide_type": "slide"
    }
   },
   "source": [
    "## Poursuite du notebook seance-4"
   ]
  },
  {
   "cell_type": "markdown",
   "id": "f022c4ba",
   "metadata": {
    "slideshow": {
     "slide_type": "slide"
    }
   },
   "source": [
    "## ✍️ Exercice ✍️\n",
    "\n",
    "Travail sur https://data.centrevaldeloire.fr/explore/dataset/prenoms-depuis-1900-centre-val-de-loire/\n",
    "- ~~Listez les 10 prénoms féminins et les 10 prénoms masculins les plus donnés dans la région en 2022~~\n",
    "- Pour 2022, listez les prénoms féminins donnés au moins 5 fois et qui se terminent par 'a' \n",
    "- Calculez la taille moyenne des prénoms par année\n",
    "- Écrire une fonction qui donne l’évolution d’un prénom x depuis 2000"
   ]
  },
  {
   "cell_type": "code",
   "execution_count": 1,
   "id": "111db636",
   "metadata": {
    "slideshow": {
     "slide_type": "-"
    }
   },
   "outputs": [
    {
     "name": "stdout",
     "output_type": "stream",
     "text": [
      "1966 : 3\n",
      "1980 : 3\n",
      "1972 : 3\n",
      "1969 : 3\n",
      "1969 : 3\n",
      "1977 : 4\n",
      "1965 : 4\n"
     ]
    }
   ],
   "source": [
    "# Lecture du fichier csv de prenoms\n",
    "import csv\n",
    "import sys\n",
    "\n",
    "fichier_prenoms = \"data/prenoms-depuis-1900-centre-val-de-loire.csv\"\n",
    "\n",
    "# Sous Windows l’encodage n’est pas forcément bien détecté\n",
    "# vous devez le spécifier avec 'encoding=\"utf-8-sig\"'\n",
    "# Merci à Alice d’avoir signalé la présence du BOM dans ces données\n",
    "with open(fichier_prenoms, encoding=\"utf-8-sig\") as input_data:\n",
    "    reader = csv.DictReader(input_data, delimiter=\";\")\n",
    "    for line in reader:\n",
    "        if line[\"Prénom\"] == \"RÉGIS\":\n",
    "            print(f\"{line['Année de naissance']} : {line['Nombre de naissances']}\")"
   ]
  },
  {
   "cell_type": "markdown",
   "id": "c9eff82f",
   "metadata": {
    "slideshow": {
     "slide_type": "slide"
    }
   },
   "source": [
    "## Squelette d’un script Python\n",
    "\n",
    "Pas forcément le seul squelette mais celui que je vous demande d’utiliser"
   ]
  },
  {
   "cell_type": "code",
   "execution_count": null,
   "id": "0cc25851",
   "metadata": {
    "slideshow": {
     "slide_type": "subslide"
    }
   },
   "outputs": [],
   "source": [
    "\"\"\"\n",
    "Ce que fait le script\n",
    "Votre nom\n",
    "La date\n",
    "\"\"\"\n",
    "\n",
    "# Les imports\n",
    "import json\n",
    "\n",
    "# Vos fonctions éventuelles\n",
    "#def my_fun(arg1):\n",
    "#    return \"\"\n",
    "\n",
    "# Votre code, dans la fonction 'main'\n",
    "def main():\n",
    "    return \"\"\n",
    "\n",
    "if __name__ == '__main__':\n",
    "    main()\n",
    "    "
   ]
  },
  {
   "cell_type": "markdown",
   "id": "5d29eec9",
   "metadata": {
    "slideshow": {
     "slide_type": "slide"
    }
   },
   "source": [
    "## Fonctions\n",
    "\n",
    "- Elles ont un nom, prennent des arguments, font un traitement et renvoient une valeur\n",
    "\n",
    "- Il est très fortement recommandé de les documenter. En Python on utilise les *docstrings*"
   ]
  },
  {
   "cell_type": "code",
   "execution_count": null,
   "id": "335f6590",
   "metadata": {
    "slideshow": {
     "slide_type": "-"
    }
   },
   "outputs": [],
   "source": [
    "def ma_fonction(arg1, arg2):\n",
    "    \"\"\"\n",
    "    La documentation de ma fonction\n",
    "    Sur plusieurs lignes si je veux\n",
    "    \"\"\"\n",
    "    return"
   ]
  },
  {
   "cell_type": "markdown",
   "id": "efc1e1e8",
   "metadata": {
    "slideshow": {
     "slide_type": "subslide"
    }
   },
   "source": [
    "- Les docstrings sont accessibles dans la console avec help(ma_fonction) ou dans le script via l'attribut `__doc__`: `ma_fonction.__doc__`\n",
    "\n",
    "- Les générateurs de documentation comme [sphinx](http://www.sphinx-doc.org) utilisent les docstrings"
   ]
  },
  {
   "cell_type": "markdown",
   "id": "d1b7caf7",
   "metadata": {
    "slideshow": {
     "slide_type": "slide"
    }
   },
   "source": [
    "### Fonctions : arguments\n",
    "\n",
    "#### Arguments positionnels"
   ]
  },
  {
   "cell_type": "code",
   "execution_count": null,
   "id": "1f820a68",
   "metadata": {
    "slideshow": {
     "slide_type": "-"
    }
   },
   "outputs": [],
   "source": [
    "def retranche(arg1, arg2):\n",
    "    \"\"\"Une soustraction quoi\"\"\"\n",
    "    return arg1 - arg2"
   ]
  },
  {
   "cell_type": "code",
   "execution_count": null,
   "id": "7605b158",
   "metadata": {
    "slideshow": {
     "slide_type": "-"
    }
   },
   "outputs": [],
   "source": [
    "retranche(4, 2)"
   ]
  },
  {
   "cell_type": "code",
   "execution_count": null,
   "id": "20792165",
   "metadata": {
    "slideshow": {
     "slide_type": "-"
    }
   },
   "outputs": [],
   "source": [
    "retranche(2, 4)"
   ]
  },
  {
   "cell_type": "markdown",
   "id": "fbf2a1dc",
   "metadata": {
    "slideshow": {
     "slide_type": "slide"
    }
   },
   "source": [
    "#### Arguments avec valeurs par défaut\n",
    "\n",
    "Ici `arg1` est obligatoire, `arg2` est facultatif"
   ]
  },
  {
   "cell_type": "code",
   "execution_count": null,
   "id": "96d833ec",
   "metadata": {
    "slideshow": {
     "slide_type": "-"
    }
   },
   "outputs": [],
   "source": [
    "def retranche(arg1, arg2=1):\n",
    "    \"\"\"Une soustraction quoi\"\"\"\n",
    "    return arg1 - arg2"
   ]
  },
  {
   "cell_type": "code",
   "execution_count": null,
   "id": "db8ba161",
   "metadata": {
    "slideshow": {
     "slide_type": "-"
    }
   },
   "outputs": [],
   "source": [
    "retranche(4, 1)"
   ]
  },
  {
   "cell_type": "code",
   "execution_count": null,
   "id": "d5890179",
   "metadata": {
    "slideshow": {
     "slide_type": "-"
    }
   },
   "outputs": [],
   "source": [
    "retranche(4)"
   ]
  },
  {
   "cell_type": "markdown",
   "id": "a01755f7",
   "metadata": {
    "slideshow": {
     "slide_type": "slide"
    }
   },
   "source": [
    "✍️ Exercice ✍️\n",
    "\n",
    "Reprenez l’exercice du maraîcher avec une fonction `calculePanier`"
   ]
  },
  {
   "cell_type": "markdown",
   "id": "7965a310",
   "metadata": {
    "slideshow": {
     "slide_type": "slide"
    }
   },
   "source": [
    "#### Fonctions : portée des variables\n",
    "\n",
    "Les variables déclarées dans le corps d'une fonction ont une portée locale à la fonction"
   ]
  },
  {
   "cell_type": "code",
   "execution_count": null,
   "id": "f03976ed",
   "metadata": {
    "slideshow": {
     "slide_type": "-"
    }
   },
   "outputs": [],
   "source": [
    "def foo():\n",
    "    a = 2713\n",
    "    print(a)\n",
    "    \n",
    "foo()\n",
    "print(a)"
   ]
  },
  {
   "cell_type": "markdown",
   "id": "31f66035",
   "metadata": {
    "slideshow": {
     "slide_type": "subslide"
    }
   },
   "source": [
    "Les variables globales (c-à-d dans le *top level*) sont accessibles en lecture dans une fonction"
   ]
  },
  {
   "cell_type": "code",
   "execution_count": null,
   "id": "00fe1d76",
   "metadata": {
    "slideshow": {
     "slide_type": "-"
    }
   },
   "outputs": [],
   "source": [
    "a = 2713\n",
    "\n",
    "def foo():\n",
    "    print(a)\n",
    "\n",
    "foo()\n",
    "a = 2\n",
    "foo()"
   ]
  },
  {
   "cell_type": "markdown",
   "id": "a8a5038f",
   "metadata": {
    "slideshow": {
     "slide_type": "slide"
    }
   },
   "source": [
    "En revanche, les redéfinitions dans une fonction ne touchent pas la variable globale"
   ]
  },
  {
   "cell_type": "code",
   "execution_count": null,
   "id": "ba73d6d1",
   "metadata": {
    "slideshow": {
     "slide_type": "-"
    }
   },
   "outputs": [],
   "source": [
    "a = 2713\n",
    "\n",
    "def foo():\n",
    "    a = 2\n",
    "    print(f'Dans foo: a={a}')\n",
    "\n",
    "print(f'Dans toplevel: a={a}')\n",
    "foo()\n",
    "print(f'Dans toplevel: a={a}')"
   ]
  }
 ],
 "metadata": {
  "celltoolbar": "Slideshow",
  "kernelspec": {
   "display_name": "Python 3 (ipykernel)",
   "language": "python",
   "name": "python3"
  },
  "language_info": {
   "codemirror_mode": {
    "name": "ipython",
    "version": 3
   },
   "file_extension": ".py",
   "mimetype": "text/x-python",
   "name": "python",
   "nbconvert_exporter": "python",
   "pygments_lexer": "ipython3",
   "version": "3.10.12"
  }
 },
 "nbformat": 4,
 "nbformat_minor": 5
}
