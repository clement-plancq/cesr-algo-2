{
 "cells": [
  {
   "cell_type": "markdown",
   "id": "d44ad35d",
   "metadata": {},
   "source": [
    "# Algo 2 – Python\n",
    "\n",
    "## Cours 4 – Dictionnaires (et des exercices) again again\n",
    "\n",
    "###  Master Humanités Numériques du CESR"
   ]
  },
  {
   "cell_type": "markdown",
   "id": "6af3200f",
   "metadata": {},
   "source": [
    "## Exercice d’échauffement\n",
    "\n",
    "Vous êtes maraicher. Vous vendez des bananes à 3€/kg, des pommes à 1.5€/kg, des poires à 2€/kg.  \n",
    "Votre premier client, Freddy Mercury, vous achète 2kg de bananes, 2kg de pommes  \n",
    "Votre deuxième client, David Bowie, vous achète 1kg de bananes, 2kg de pommes et 2kg de poires \n",
    "Votre troisième client, Sigourney Weaver, vous achètet 3kg de pommes et 1kg de poires\n",
    "\n",
    "Calculez le prix des paniers de chacun de clients"
   ]
  },
  {
   "cell_type": "markdown",
   "id": "76127ea2",
   "metadata": {},
   "source": [
    "## Prise en main de VSCode et du terminal"
   ]
  },
  {
   "cell_type": "markdown",
   "id": "41eb0c37",
   "metadata": {},
   "source": [
    "## Poursuite du notebook seance-4"
   ]
  },
  {
   "cell_type": "markdown",
   "id": "c9eff82f",
   "metadata": {},
   "source": [
    "## Squelette d’un script Python\n",
    "\n",
    "Pas forcément le seul squelette mais celui que je vous demande d’utiliser"
   ]
  },
  {
   "cell_type": "code",
   "execution_count": null,
   "id": "0cc25851",
   "metadata": {},
   "outputs": [],
   "source": [
    "\"\"\"\n",
    "Ce que fait le script\n",
    "Votre nom\n",
    "La date\n",
    "\"\"\"\n",
    "\n",
    "# Les imports\n",
    "import json\n",
    "\n",
    "# Vos fonctions éventuelles\n",
    "#def my_fun(arg1):\n",
    "#    return \"\"\n",
    "\n",
    "# Votre code, dans la fonction 'main'\n",
    "def main():\n",
    "    return \"\"\n",
    "\n",
    "if __name__ == '__main__':\n",
    "    main()\n",
    "    "
   ]
  }
 ],
 "metadata": {
  "kernelspec": {
   "display_name": "Python 3 (ipykernel)",
   "language": "python",
   "name": "python3"
  },
  "language_info": {
   "codemirror_mode": {
    "name": "ipython",
    "version": 3
   },
   "file_extension": ".py",
   "mimetype": "text/x-python",
   "name": "python",
   "nbconvert_exporter": "python",
   "pygments_lexer": "ipython3",
   "version": "3.10.12"
  }
 },
 "nbformat": 4,
 "nbformat_minor": 5
}
