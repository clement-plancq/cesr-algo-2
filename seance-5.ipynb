{
 "cells": [
  {
   "cell_type": "markdown",
   "id": "d44ad35d",
   "metadata": {},
   "source": [
    "# Algo 2 – Python\n",
    "\n",
    "## Cours 5 – Dictionnaires (et des exercices) again again\n",
    "\n",
    "###  Master Humanités Numériques du CESR"
   ]
  },
  {
   "cell_type": "markdown",
   "id": "6af3200f",
   "metadata": {},
   "source": [
    "## Exercice d’échauffement\n",
    "\n",
    "Vous êtes maraicher. Vous vendez des bananes à 3€/kg, des pommes à 1.5€/kg, des poires à 2€/kg.  \n",
    "Votre premier client, Freddy Mercury, vous achète 2kg de bananes, 2kg de pommes  \n",
    "Votre deuxième client, David Bowie, vous achète 1kg de bananes, 2kg de pommes et 2kg de poires \n",
    "\n",
    "La semaine suivante les pommes passent à 1.75€/kg, les poires à 2.1€/kg. Vous avez aussi des kiwis à 0.75€ pièce.  \n",
    "Votre troisième client, Sigourney Weaver, vous achète 3kg de pommes, 1kg de poires et 2 kiwis\n",
    "\n",
    "Calculez le prix des paniers de chacun de clients"
   ]
  },
  {
   "cell_type": "markdown",
   "id": "76127ea2",
   "metadata": {},
   "source": [
    "## Prise en main de VSCode et du terminal"
   ]
  },
  {
   "cell_type": "markdown",
   "id": "41eb0c37",
   "metadata": {},
   "source": [
    "## Poursuite du notebook seance-4"
   ]
  },
  {
   "cell_type": "markdown",
   "id": "c9eff82f",
   "metadata": {},
   "source": [
    "## Squelette d’un script Python\n",
    "\n",
    "Pas forcément le seul squelette mais celui que je vous demande d’utiliser"
   ]
  },
  {
   "cell_type": "code",
   "execution_count": null,
   "id": "0cc25851",
   "metadata": {},
   "outputs": [],
   "source": [
    "\"\"\"\n",
    "Ce que fait le script\n",
    "Votre nom\n",
    "La date\n",
    "\"\"\"\n",
    "\n",
    "# Les imports\n",
    "import json\n",
    "\n",
    "# Vos fonctions éventuelles\n",
    "#def my_fun(arg1):\n",
    "#    return \"\"\n",
    "\n",
    "# Votre code, dans la fonction 'main'\n",
    "def main():\n",
    "    return \"\"\n",
    "\n",
    "if __name__ == '__main__':\n",
    "    main()\n",
    "    "
   ]
  },
  {
   "cell_type": "markdown",
   "id": "a337bca0",
   "metadata": {},
   "source": [
    "## Fonctions\n",
    "\n",
    "- Elles ont un nom, prennent des arguments, font un traitement et renvoient une valeur\n",
    "\n",
    "- Il est très fortement recommandé de les documenter. En Python on utilise les *docstrings*"
   ]
  },
  {
   "cell_type": "code",
   "execution_count": null,
   "id": "49bdffb5",
   "metadata": {},
   "outputs": [],
   "source": [
    "def ma_fonction(arg1, arg2):\n",
    "    \"\"\"\n",
    "    La documentation de ma fonction\n",
    "    Sur plusieurs lignes si je veux\n",
    "    \"\"\"\n",
    "    return"
   ]
  },
  {
   "cell_type": "markdown",
   "id": "6f6e4c06",
   "metadata": {},
   "source": [
    "- Les docstrings sont accessibles dans la console avec help(ma_fonction) ou dans le script via l'attribut `__doc__`: `ma_fonction.__doc__`\n",
    "\n",
    "- Les générateurs de documentation comme [sphinx](http://www.sphinx-doc.org) utilisent les docstrings"
   ]
  },
  {
   "cell_type": "markdown",
   "id": "280d73a5",
   "metadata": {},
   "source": [
    "### Fonctions : arguments\n",
    "\n",
    "#### Arguments positionnels"
   ]
  },
  {
   "cell_type": "code",
   "execution_count": null,
   "id": "34e79822",
   "metadata": {},
   "outputs": [],
   "source": [
    "def retranche(arg1, arg2):\n",
    "    \"\"\"Une soustraction quoi\"\"\"\n",
    "    return arg1 - arg2"
   ]
  },
  {
   "cell_type": "code",
   "execution_count": null,
   "id": "6b3415ed",
   "metadata": {},
   "outputs": [],
   "source": [
    "retranche(4, 2)"
   ]
  },
  {
   "cell_type": "code",
   "execution_count": null,
   "id": "b3b18651",
   "metadata": {},
   "outputs": [],
   "source": [
    "retranche(2, 4)"
   ]
  },
  {
   "cell_type": "markdown",
   "id": "bcf5935a",
   "metadata": {},
   "source": [
    "#### Arguments avec valeurs par défaut\n",
    "\n",
    "Ici `arg1` est obligatoire, `arg2` est facultatif"
   ]
  },
  {
   "cell_type": "code",
   "execution_count": null,
   "id": "a5790144",
   "metadata": {},
   "outputs": [],
   "source": [
    "def retranche(arg1, arg2=1):\n",
    "    \"\"\"Une soustraction quoi\"\"\"\n",
    "    return arg1 - arg2"
   ]
  },
  {
   "cell_type": "code",
   "execution_count": null,
   "id": "165709e1",
   "metadata": {},
   "outputs": [],
   "source": [
    "retranche(4, 1)"
   ]
  },
  {
   "cell_type": "code",
   "execution_count": null,
   "id": "c852fcc6",
   "metadata": {},
   "outputs": [],
   "source": [
    "retranche(4)"
   ]
  },
  {
   "cell_type": "markdown",
   "id": "4b0d755c",
   "metadata": {},
   "source": [
    "✍️ Exercice ✍️\n",
    "\n",
    "Reprenez l’exercice du maraîcher avec une fonction `calculePanier`"
   ]
  },
  {
   "cell_type": "markdown",
   "id": "0c292af6",
   "metadata": {},
   "source": [
    "#### Fonctions : portée des variables\n",
    "\n",
    "Les variables déclarées dans le corps d'une fonction ont une portée locale à la fonction"
   ]
  },
  {
   "cell_type": "code",
   "execution_count": null,
   "id": "7fe4cc0e",
   "metadata": {},
   "outputs": [],
   "source": [
    "def foo():\n",
    "    a = 2713\n",
    "    print(a)\n",
    "    \n",
    "foo()\n",
    "print(a)"
   ]
  },
  {
   "cell_type": "markdown",
   "id": "d229f0c3",
   "metadata": {},
   "source": [
    "Les variables globales (c-à-d dans le *top level*) sont accessibles en lecture dans une fonction"
   ]
  },
  {
   "cell_type": "code",
   "execution_count": null,
   "id": "9602031e",
   "metadata": {},
   "outputs": [],
   "source": [
    "a = 2713\n",
    "\n",
    "def foo():\n",
    "    print(a)\n",
    "\n",
    "foo()\n",
    "a = 2\n",
    "foo()"
   ]
  },
  {
   "cell_type": "markdown",
   "id": "ac6e60b3",
   "metadata": {},
   "source": [
    "En revanche, les redéfinitions dans une fonction ne touchent pas la variable globale"
   ]
  },
  {
   "cell_type": "code",
   "execution_count": null,
   "id": "67e21f02",
   "metadata": {},
   "outputs": [],
   "source": [
    "a = 2713\n",
    "\n",
    "def foo():\n",
    "    a = 2\n",
    "    print(f'Dans foo: a={a}')\n",
    "\n",
    "print(f'Dans toplevel: a={a}')\n",
    "foo()\n",
    "print(f'Dans toplevel: a={a}')"
   ]
  }
 ],
 "metadata": {
  "kernelspec": {
   "display_name": "Python 3 (ipykernel)",
   "language": "python",
   "name": "python3"
  },
  "language_info": {
   "codemirror_mode": {
    "name": "ipython",
    "version": 3
   },
   "file_extension": ".py",
   "mimetype": "text/x-python",
   "name": "python",
   "nbconvert_exporter": "python",
   "pygments_lexer": "ipython3",
   "version": "3.10.12"
  }
 },
 "nbformat": 4,
 "nbformat_minor": 5
}
