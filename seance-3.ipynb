{
 "cells": [
  {
   "cell_type": "markdown",
   "id": "6bc35f52",
   "metadata": {
    "slideshow": {
     "slide_type": "slide"
    }
   },
   "source": [
    "# Algo 2 – Python\n",
    "\n",
    "## Cours 3 – Dictionnaires (et des exercices)\n",
    "\n",
    "###  Master Humanités Numériques du CESR"
   ]
  },
  {
   "cell_type": "markdown",
   "id": "d3085a66",
   "metadata": {
    "slideshow": {
     "slide_type": "slide"
    }
   },
   "source": [
    "## Corrections\n",
    "\n",
    "Les corrections sont dans le répertoire `exos` de la page du cours.\n",
    "\n",
    "Pour vous aider dans la manipulation des boucles et des structures de données, je vous conseille d’utiliser le site [Python Tutor](https://pythontutor.com/render.html#mode=edit)\n",
    "\n",
    "### temperatures (Codin Game)\n"
   ]
  },
  {
   "cell_type": "code",
   "execution_count": null,
   "id": "a26eb232",
   "metadata": {
    "slideshow": {
     "slide_type": "slide"
    }
   },
   "outputs": [],
   "source": [
    "# %load exos/temperatures.py\n",
    "import sys\n",
    "import math\n",
    "\n",
    "# Auto-generated code below aims at helping you parse\n",
    "# the standard input according to the problem statement.\n",
    "\n",
    "n = int(input())  # the number of temperatures to analyse\n",
    "temps = input()  # the n temperatures expressed as integers ranging from -273 to 5526\n",
    "# liste en compréhension pour convertir les températures en entiers\n",
    "temps = [int(temp) for temp in temps.split()]\n",
    "# on utilise une variable temporaire pour stocker la température la plus grande\n",
    "temp_ref = None \n",
    "\n",
    "if n == 0:\n",
    "    print(0)\n",
    "else:\n",
    "    temp_ref = temps[0]\n",
    "    for temp in temps:\n",
    "        # on compare la température courante avec la température la plus grande\n",
    "        if abs(temp) < abs(temp_ref):\n",
    "            temp_ref = temp\n",
    "        elif abs(temp) == abs(temp_ref) and temp > 0:\n",
    "            temp_ref = temp\n",
    "    print(temp_ref)\n"
   ]
  },
  {
   "cell_type": "markdown",
   "id": "cf1342e9",
   "metadata": {
    "slideshow": {
     "slide_type": "slide"
    }
   },
   "source": [
    "### sites patrimoniaux"
   ]
  },
  {
   "cell_type": "code",
   "execution_count": null,
   "id": "ae1c535b",
   "metadata": {
    "slideshow": {
     "slide_type": "-"
    }
   },
   "outputs": [],
   "source": [
    "# %load exos/sites-pratrimoniaux.py\n",
    "\"\"\"\n",
    "Exercice séance 2 - Sites pratrimoniaux\n",
    "Téléchargez le fichier csv disponible à l’url https://data.culture.gouv.fr/explore/dataset/liste-des-sites-patrimoniaux-remarquables-spr/\n",
    "Utilisez le module csv et une ou des listes pour extraire les communes, départements et numéros de SPR dans la région Centre Val-de-Loire. Vous exporterez le résultat dans un nouveau fichier csv.\n",
    "\"\"\"\n",
    "\n",
    "import csv\n",
    "\n",
    "def main():\n",
    "    spr_cvl = []\n",
    "\n",
    "    with open('../data/liste-des-sites-patrimoniaux-remarquables-spr.csv') as input_file:\n",
    "        csv_reader = csv.DictReader(input_file, delimiter=';')\n",
    "        for row in csv_reader:\n",
    "            if row['Région'] == \"CENTRE-VAL DE LOIRE\":\n",
    "                spr_cvl.append(row)\n",
    "\n",
    "    with open('../data/liste-des-sites-patrimoniaux-remarquables-spr-cvl.csv', 'w') as output_file:\n",
    "        fieldnames = ['Département', 'Commune', 'Numéro du SPR']\n",
    "        csv_writer = csv.DictWriter(output_file, fieldnames=fieldnames)\n",
    "        csv_writer.writeheader()\n",
    "        for item in spr_cvl:\n",
    "            csv_writer.writerow({'Département': item['Département'], 'Commune': item['Commune'], 'Numéro du SPR': item['numéro du SPR']})\n",
    "\n",
    "if __name__ == '__main__':\n",
    "    main()"
   ]
  },
  {
   "cell_type": "markdown",
   "id": "0c3de44f",
   "metadata": {
    "slideshow": {
     "slide_type": "slide"
    }
   },
   "source": [
    "## ✍️ Exercice ✍️\n",
    "\n",
    "Comptez le nombre de voyelles et le nombre de consonnes du mot donné par l’utilisateur. Utilisez une liste pour les voyelles."
   ]
  },
  {
   "cell_type": "code",
   "execution_count": null,
   "id": "3dd76a18",
   "metadata": {
    "slideshow": {
     "slide_type": "-"
    }
   },
   "outputs": [],
   "source": [
    "voyelles = ['a', 'e', 'i', 'o', 'u']\n",
    "nb_voyelles = 0\n",
    "nb_consonnes = 0\n",
    "\n",
    "mot = input(\"Bonjour. Quel est votre mot ?\")\n",
    "\n",
    "# À vous de compléter\n",
    "\n",
    "print(f\"Il y a {nb_voyelles} voyelles et {nb_consonnes} consonnes.\")\n"
   ]
  },
  {
   "cell_type": "markdown",
   "id": "0493a6df",
   "metadata": {
    "slideshow": {
     "slide_type": "slide"
    }
   },
   "source": [
    "## ✍️ Exercice ✍️\n",
    "\n",
    "Retour sur l’utilisation des listes et du module csv. Ouvrez le fichier `data/notes.csv`, extrayez les notes et calculez la moyenne.  \n",
    "Utilisez la fontion [`sum`](https://docs.python.org/3/library/functions.html#sum)"
   ]
  },
  {
   "cell_type": "code",
   "execution_count": null,
   "id": "b9414a5f",
   "metadata": {
    "slideshow": {
     "slide_type": "-"
    }
   },
   "outputs": [],
   "source": [
    "# %load data/notes.csv\n",
    "numero-eleve,note\n",
    "123,13\n",
    "124,18\n",
    "125,11\n",
    "126,15\n",
    "127,9\n",
    "128,12\n",
    "129,16"
   ]
  },
  {
   "cell_type": "code",
   "execution_count": 24,
   "id": "755fa9aa",
   "metadata": {
    "slideshow": {
     "slide_type": "subslide"
    }
   },
   "outputs": [
    {
     "name": "stdout",
     "output_type": "stream",
     "text": [
      "{'numero-eleve': '123', 'note': '13'}\n",
      "{'numero-eleve': '124', 'note': '18'}\n",
      "{'numero-eleve': '125', 'note': '11'}\n",
      "{'numero-eleve': '126', 'note': '15'}\n",
      "{'numero-eleve': '127', 'note': '9'}\n",
      "{'numero-eleve': '128', 'note': '12'}\n",
      "{'numero-eleve': '129', 'note': '16'}\n"
     ]
    }
   ],
   "source": [
    "import csv\n",
    "import statistics\n",
    "\n",
    "notes = []\n",
    "with open('data/notes.csv') as input_file:\n",
    "    reader = csv.DictReader(input_file)\n",
    "    for row in reader:\n",
    "        print(row)"
   ]
  },
  {
   "cell_type": "markdown",
   "id": "caa406b8",
   "metadata": {
    "slideshow": {
     "slide_type": "slide"
    }
   },
   "source": [
    "## Dictionnaires\n",
    "\n",
    "`DictReader` et `DictWriter` utilisent des dictionnaires.  \n",
    "Avec la liste, le dictionnaire est *la* structure de données de base de Python."
   ]
  },
  {
   "cell_type": "markdown",
   "id": "3cb2845a",
   "metadata": {
    "slideshow": {
     "slide_type": "slide"
    }
   },
   "source": [
    "- Les dictionnaires (`dict`) sont des structures de données associatives de type clé: valeur\n",
    "\n",
    "- Les clés d'un dictionnaire sont uniques, seuls les types *hashable* (*immutable* et objets que vous avez définis) peuvent être des clés ([doc](https://docs.python.org/library/stdtypes.html#mapping-types-dict)). Le plus souvent on utilise des *string* pour les clés.\n",
    " - `key in d` renvoie `True` si `key` est une clé de `d`\n",
    " - `keys()` renvoie la liste des clés\n",
    " - `values()` renvoie la liste des valeurs\n",
    " - `items()` renvoie la liste des couples clé:valeur (tuple)\n",
    " - `get(key, default=None)` renvoie la valeur associée à `key`. Si `key` n'existe pas, renvoie l'argument `default`. Ne modifie pas le dictionnaire.\n",
    " - `setdefault(key, default=None)` si `key` n'existe pas, insère `key` avec la valeur `default` dans le dictionnaire puis renvoie la valeur associée à la clé.\n"
   ]
  },
  {
   "cell_type": "code",
   "execution_count": 27,
   "id": "6048013a",
   "metadata": {
    "slideshow": {
     "slide_type": "slide"
    }
   },
   "outputs": [],
   "source": [
    "capitales = {}\n",
    "capitales = dict()"
   ]
  },
  {
   "cell_type": "code",
   "execution_count": 2,
   "id": "b1d852b8",
   "metadata": {
    "slideshow": {
     "slide_type": "-"
    }
   },
   "outputs": [],
   "source": [
    "capitales = {\n",
    "    \"France\": \"Paris\",\n",
    "    \"Belgique\": \"Bruxelles\",\n",
    "    \"Italie\": \"Rome\",\n",
    "    \"Philippines\": \"Manille\"\n",
    "}"
   ]
  },
  {
   "cell_type": "code",
   "execution_count": 36,
   "id": "05636c93",
   "metadata": {
    "slideshow": {
     "slide_type": "slide"
    }
   },
   "outputs": [
    {
     "data": {
      "text/plain": [
       "'Rome'"
      ]
     },
     "execution_count": 36,
     "metadata": {},
     "output_type": "execute_result"
    }
   ],
   "source": [
    "# On accède à une valeur par sa clé\n",
    "capitales[\"Italie\"]"
   ]
  },
  {
   "cell_type": "code",
   "execution_count": 37,
   "id": "4dc15e94",
   "metadata": {
    "slideshow": {
     "slide_type": "-"
    }
   },
   "outputs": [
    {
     "ename": "KeyError",
     "evalue": "'Laos'",
     "output_type": "error",
     "traceback": [
      "\u001b[0;31m---------------------------------------------------------------------------\u001b[0m",
      "\u001b[0;31mKeyError\u001b[0m                                  Traceback (most recent call last)",
      "Input \u001b[0;32mIn [37]\u001b[0m, in \u001b[0;36m<cell line: 2>\u001b[0;34m()\u001b[0m\n\u001b[1;32m      1\u001b[0m \u001b[38;5;66;03m# Si la clé n’est pas présente dans le dictionnaire\u001b[39;00m\n\u001b[0;32m----> 2\u001b[0m \u001b[43mcapitales\u001b[49m\u001b[43m[\u001b[49m\u001b[38;5;124;43m\"\u001b[39;49m\u001b[38;5;124;43mLaos\u001b[39;49m\u001b[38;5;124;43m\"\u001b[39;49m\u001b[43m]\u001b[49m\n",
      "\u001b[0;31mKeyError\u001b[0m: 'Laos'"
     ]
    }
   ],
   "source": [
    "# Si la clé n’est pas présente dans le dictionnaire\n",
    "capitales[\"Laos\"]"
   ]
  },
  {
   "cell_type": "code",
   "execution_count": null,
   "id": "f99b807d",
   "metadata": {
    "slideshow": {
     "slide_type": "-"
    }
   },
   "outputs": [],
   "source": [
    "# `get` par défaut renvoie `None` si la clé n’existe pas (pas d’erreur)\n",
    "\n",
    "print(capitales.get(\"Laos\"))"
   ]
  },
  {
   "cell_type": "code",
   "execution_count": null,
   "id": "c7f5440c",
   "metadata": {
    "slideshow": {
     "slide_type": "slide"
    }
   },
   "outputs": [],
   "source": [
    "# on peut aussi tester si une clé existe dans le dictionnaire avec \n",
    "\n",
    "if \"Laos\" in capitales:\n",
    "    print(capitales[\"Laos\"])\n",
    "else:\n",
    "    capitales[\"Laos\"] = \"Vientiane \""
   ]
  },
  {
   "cell_type": "code",
   "execution_count": 39,
   "id": "a85e89da",
   "metadata": {
    "slideshow": {
     "slide_type": "slide"
    }
   },
   "outputs": [],
   "source": [
    "# on peut ajouter un couple clé:valeur\n",
    "capitales[\"Paraguay\"] = \"Asuncion\""
   ]
  },
  {
   "cell_type": "markdown",
   "id": "b59356ee",
   "metadata": {
    "slideshow": {
     "slide_type": "slide"
    }
   },
   "source": [
    "`keys`, `values` et `items` renvoient des *iterables*"
   ]
  },
  {
   "cell_type": "code",
   "execution_count": 41,
   "id": "933646c4",
   "metadata": {
    "slideshow": {
     "slide_type": "-"
    }
   },
   "outputs": [
    {
     "name": "stdout",
     "output_type": "stream",
     "text": [
      "France\n",
      "Belgique\n",
      "Italie\n",
      "Philippines\n",
      "Paraguay\n"
     ]
    }
   ],
   "source": [
    "# toutes les clés du dictionnaire\n",
    "capitales.keys()\n",
    "\n",
    "#for pays in capitales.keys():\n",
    "#    print(pays)"
   ]
  },
  {
   "cell_type": "code",
   "execution_count": null,
   "id": "1c897254",
   "metadata": {
    "slideshow": {
     "slide_type": "-"
    }
   },
   "outputs": [],
   "source": [
    "# les valeurs\n",
    "capitales.values()\n",
    "\n",
    "#for capitale in capitales.values():\n",
    "#    print(capitale)"
   ]
  },
  {
   "cell_type": "code",
   "execution_count": 44,
   "id": "006609bf",
   "metadata": {
    "scrolled": true,
    "slideshow": {
     "slide_type": "subslide"
    }
   },
   "outputs": [
    {
     "name": "stdout",
     "output_type": "stream",
     "text": [
      "Paris (France)\n",
      "Bruxelles (Belgique)\n",
      "Rome (Italie)\n",
      "Manille (Philippines)\n",
      "Asuncion (Paraguay)\n"
     ]
    }
   ],
   "source": [
    "# les couples clé:valeur\n",
    "\n",
    "for pays, capitale in capitales.items():\n",
    "    print(f\"{capitale} ({pays})\")"
   ]
  },
  {
   "cell_type": "markdown",
   "id": "a591d238",
   "metadata": {
    "slideshow": {
     "slide_type": "slide"
    }
   },
   "source": [
    "## ✍️ Exercice ✍️\n",
    "\n",
    "Comptez le nombre de chaque voyelle du mot donné par l’utilisateur.  \n",
    "Exemple pour \"cadeau\" il y a 2 'a', 1 'e' et 1 'u'"
   ]
  },
  {
   "cell_type": "code",
   "execution_count": null,
   "id": "e2308680",
   "metadata": {
    "slideshow": {
     "slide_type": "-"
    }
   },
   "outputs": [],
   "source": []
  },
  {
   "cell_type": "markdown",
   "id": "72df62ee",
   "metadata": {
    "slideshow": {
     "slide_type": "slide"
    }
   },
   "source": [
    "## ✍️ Exercice ✍️\n",
    "\n",
    "Travail sur le fichier `data/notes-2.csv`. Calculez \n",
    " - la moyenne de chaque élève toutes matières confondues\n",
    " - la moyenne de chaque matière"
   ]
  },
  {
   "cell_type": "code",
   "execution_count": null,
   "id": "ce2ceeea",
   "metadata": {
    "slideshow": {
     "slide_type": "-"
    }
   },
   "outputs": [],
   "source": []
  },
  {
   "cell_type": "markdown",
   "id": "5a8b124a",
   "metadata": {
    "slideshow": {
     "slide_type": "slide"
    }
   },
   "source": [
    "## ✍️ Exercice ✍️\n",
    "\n",
    "Travail sur https://data.centrevaldeloire.fr/explore/dataset/monuments-sites-musees-en-region-centre-val-de-loire/table/\n",
    "\n",
    "- Listez les entrées qui n’ont pas de site internet\n",
    "- Regroupez par département les entrées qui n’ont pas de site internet\n",
    "- Quelles sont les entrées qui acceptent les visites pédagogiques et dont la visite dure moins d’une heure\n",
    "- Comptez les entrées par catégorie pour chaque département\n",
    " "
   ]
  }
 ],
 "metadata": {
  "celltoolbar": "Slideshow",
  "kernelspec": {
   "display_name": "Python 3 (ipykernel)",
   "language": "python",
   "name": "python3"
  },
  "language_info": {
   "codemirror_mode": {
    "name": "ipython",
    "version": 3
   },
   "file_extension": ".py",
   "mimetype": "text/x-python",
   "name": "python",
   "nbconvert_exporter": "python",
   "pygments_lexer": "ipython3",
   "version": "3.10.12"
  }
 },
 "nbformat": 4,
 "nbformat_minor": 5
}
